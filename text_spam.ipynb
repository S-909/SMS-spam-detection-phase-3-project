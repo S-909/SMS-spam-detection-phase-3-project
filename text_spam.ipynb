{
  "cells": [
    {
      "cell_type": "markdown",
      "metadata": {},
      "source": [
        "# 📩 SMS Spam Detection\n",
        "## Project Overview\n",
        "\n",
        "### Problem Statement.\n",
        "Sms spam has become a significant challenge for  individuals, leading to:\n",
        "- **Security Risks**: Spam often contains malicious links and attachments\n",
        "- **Resource Consumption**: Storage and bandwidth costs for processing spam\n",
        "- **User Experience**: Poor experience affects communication efficiency\n",
        "\n",
        "### Objective\n",
        "Develop an automated machine learning system to accurately classify sms as spam or legitimate (ham) to improve security and user experience.\n",
        "\n",
        "## 🎯 Business Understanding\n",
        "\n",
        "Unsolicited and malicious SMS messages pose serious risks and costs to both users and service providers. While individual messages may appear harmless, the aggregate effect of spam includes:\n",
        "\n",
        "### 🔐 Security and Fraud Prevention\n",
        "- **Financial scams**: Many spam messages attempt to deceive users into sharing sensitive information (e.g., OTPs, bank details).  \n",
        "- **Phishing attacks**: Malicious links can lead users to fake websites designed to steal data or infect devices with malware.  \n",
        "\n",
        "### 📱 Enhanced User Experience\n",
        "- **Reduced message clutter**: Automatically filtering spam messages ensures that users only receive relevant and trusted content.  \n",
        "- **Improved communication**: A cleaner inbox enhances overall communication efficiency and trust in SMS platforms.  \n",
        "\n",
        "### 💰 Cost and Resource Optimization\n",
        "- **Reduced operational costs**: Telecom providers and messaging services can save on infrastructure and human resources otherwise used for manual spam monitoring.  \n",
        "- **Compliance and regulation**: Automated spam detection aids in meeting legal requirements (e.g., data protection laws, anti-spam regulations).  \n",
        "\n",
        "---\n",
        "\n",
        "### Success Criteria\n",
        "- **Accuracy > 95%**: High classification accuracy for user trust\n",
        "- **Low False Positives**: Minimize legitimate sms marked as spam\n",
        "- **Interpretability**: Understanding of model decisions for security audits\n"
      ]
    },
    {
      "cell_type": "markdown",
      "metadata": {},
      "source": [
        "# Loading and Exploring Datasets\n",
        "Before diving into analysis, thorough exploration of the SMS Spam Collection dataset is essential to understand its structure and to inform subsequent processing and modeling steps.\n",
        "\n",
        "The dataset contains two main columns:\n",
        "\n",
        "`label`: Indicates whether a message is \"ham\" (non-spam) or \"spam\", serving as the target variable for classification.\n",
        "\n",
        "`message`: Contains the raw SMS text message content to be analyzed.\n",
        "\n",
        "Understanding the data structure helps us assess data quality and plan preprocessing steps effectively.\n"
      ]
    },
    {
      "cell_type": "code",
      "execution_count": 93,
      "metadata": {
        "id": "0BLljglLnuzs"
      },
      "outputs": [],
      "source": [
        "#import the necessary libraries.\n",
        "import numpy as np\n",
        "import pandas as pd\n",
        "import matplotlib.pyplot as plt\n",
        "import seaborn as sns\n",
        "import re\n",
        "import string\n",
        "from sklearn.feature_extraction.text import CountVectorizer, TfidfVectorizer\n",
        "from sklearn.model_selection import train_test_split"
      ]
    },
    {
      "cell_type": "markdown",
      "metadata": {},
      "source": [
        "Load the dataset into a pandas dataframe."
      ]
    },
    {
      "cell_type": "code",
      "execution_count": 42,
      "metadata": {
        "id": "X_JB_kT6pdct"
      },
      "outputs": [
        {
          "data": {
            "application/vnd.microsoft.datawrangler.viewer.v0+json": {
              "columns": [
                {
                  "name": "index",
                  "rawType": "int64",
                  "type": "integer"
                },
                {
                  "name": "v1",
                  "rawType": "object",
                  "type": "string"
                },
                {
                  "name": "v2",
                  "rawType": "object",
                  "type": "string"
                },
                {
                  "name": "Unnamed: 2",
                  "rawType": "object",
                  "type": "unknown"
                },
                {
                  "name": "Unnamed: 3",
                  "rawType": "object",
                  "type": "unknown"
                },
                {
                  "name": "Unnamed: 4",
                  "rawType": "object",
                  "type": "unknown"
                }
              ],
              "ref": "d4dacc7f-ed17-4fde-b5c4-3c8615d40ee5",
              "rows": [
                [
                  "0",
                  "ham",
                  "Go until jurong point, crazy.. Available only in bugis n great world la e buffet... Cine there got amore wat...",
                  null,
                  null,
                  null
                ],
                [
                  "1",
                  "ham",
                  "Ok lar... Joking wif u oni...",
                  null,
                  null,
                  null
                ],
                [
                  "2",
                  "spam",
                  "Free entry in 2 a wkly comp to win FA Cup final tkts 21st May 2005. Text FA to 87121 to receive entry question(std txt rate)T&C's apply 08452810075over18's",
                  null,
                  null,
                  null
                ],
                [
                  "3",
                  "ham",
                  "U dun say so early hor... U c already then say...",
                  null,
                  null,
                  null
                ],
                [
                  "4",
                  "ham",
                  "Nah I don't think he goes to usf, he lives around here though",
                  null,
                  null,
                  null
                ]
              ],
              "shape": {
                "columns": 5,
                "rows": 5
              }
            },
            "text/html": [
              "<div>\n",
              "<style scoped>\n",
              "    .dataframe tbody tr th:only-of-type {\n",
              "        vertical-align: middle;\n",
              "    }\n",
              "\n",
              "    .dataframe tbody tr th {\n",
              "        vertical-align: top;\n",
              "    }\n",
              "\n",
              "    .dataframe thead th {\n",
              "        text-align: right;\n",
              "    }\n",
              "</style>\n",
              "<table border=\"1\" class=\"dataframe\">\n",
              "  <thead>\n",
              "    <tr style=\"text-align: right;\">\n",
              "      <th></th>\n",
              "      <th>v1</th>\n",
              "      <th>v2</th>\n",
              "      <th>Unnamed: 2</th>\n",
              "      <th>Unnamed: 3</th>\n",
              "      <th>Unnamed: 4</th>\n",
              "    </tr>\n",
              "  </thead>\n",
              "  <tbody>\n",
              "    <tr>\n",
              "      <th>0</th>\n",
              "      <td>ham</td>\n",
              "      <td>Go until jurong point, crazy.. Available only ...</td>\n",
              "      <td>NaN</td>\n",
              "      <td>NaN</td>\n",
              "      <td>NaN</td>\n",
              "    </tr>\n",
              "    <tr>\n",
              "      <th>1</th>\n",
              "      <td>ham</td>\n",
              "      <td>Ok lar... Joking wif u oni...</td>\n",
              "      <td>NaN</td>\n",
              "      <td>NaN</td>\n",
              "      <td>NaN</td>\n",
              "    </tr>\n",
              "    <tr>\n",
              "      <th>2</th>\n",
              "      <td>spam</td>\n",
              "      <td>Free entry in 2 a wkly comp to win FA Cup fina...</td>\n",
              "      <td>NaN</td>\n",
              "      <td>NaN</td>\n",
              "      <td>NaN</td>\n",
              "    </tr>\n",
              "    <tr>\n",
              "      <th>3</th>\n",
              "      <td>ham</td>\n",
              "      <td>U dun say so early hor... U c already then say...</td>\n",
              "      <td>NaN</td>\n",
              "      <td>NaN</td>\n",
              "      <td>NaN</td>\n",
              "    </tr>\n",
              "    <tr>\n",
              "      <th>4</th>\n",
              "      <td>ham</td>\n",
              "      <td>Nah I don't think he goes to usf, he lives aro...</td>\n",
              "      <td>NaN</td>\n",
              "      <td>NaN</td>\n",
              "      <td>NaN</td>\n",
              "    </tr>\n",
              "  </tbody>\n",
              "</table>\n",
              "</div>"
            ],
            "text/plain": [
              "     v1                                                 v2 Unnamed: 2  \\\n",
              "0   ham  Go until jurong point, crazy.. Available only ...        NaN   \n",
              "1   ham                      Ok lar... Joking wif u oni...        NaN   \n",
              "2  spam  Free entry in 2 a wkly comp to win FA Cup fina...        NaN   \n",
              "3   ham  U dun say so early hor... U c already then say...        NaN   \n",
              "4   ham  Nah I don't think he goes to usf, he lives aro...        NaN   \n",
              "\n",
              "  Unnamed: 3 Unnamed: 4  \n",
              "0        NaN        NaN  \n",
              "1        NaN        NaN  \n",
              "2        NaN        NaN  \n",
              "3        NaN        NaN  \n",
              "4        NaN        NaN  "
            ]
          },
          "execution_count": 42,
          "metadata": {},
          "output_type": "execute_result"
        }
      ],
      "source": [
        "df = pd.read_csv(\"spam.csv\", encoding=\"latin-1\")\n",
        "df.head() # load the first five rows."
      ]
    },
    {
      "cell_type": "markdown",
      "metadata": {},
      "source": [
        "## Data Exploration.\n",
        "**Why This Matters**: Data quality assessment prevents model training issues and ensures reliable results."
      ]
    },
    {
      "cell_type": "code",
      "execution_count": 43,
      "metadata": {
        "colab": {
          "base_uri": "https://localhost:8080/"
        },
        "id": "IYVLHNlWp7Tl",
        "outputId": "741b35fa-edc5-4722-afb7-1d0e26fb6648"
      },
      "outputs": [
        {
          "data": {
            "text/plain": [
              "(5572, 5)"
            ]
          },
          "execution_count": 43,
          "metadata": {},
          "output_type": "execute_result"
        }
      ],
      "source": [
        "#Determine the n.o of rows and columns\n",
        "df.shape "
      ]
    },
    {
      "cell_type": "code",
      "execution_count": 44,
      "metadata": {
        "colab": {
          "base_uri": "https://localhost:8080/"
        },
        "id": "B9BnRwJkp-6E",
        "outputId": "d37d006b-00c8-4dfd-96e2-c1ea655d81fc"
      },
      "outputs": [
        {
          "name": "stdout",
          "output_type": "stream",
          "text": [
            "<class 'pandas.core.frame.DataFrame'>\n",
            "RangeIndex: 5572 entries, 0 to 5571\n",
            "Data columns (total 5 columns):\n",
            " #   Column      Non-Null Count  Dtype \n",
            "---  ------      --------------  ----- \n",
            " 0   v1          5572 non-null   object\n",
            " 1   v2          5572 non-null   object\n",
            " 2   Unnamed: 2  50 non-null     object\n",
            " 3   Unnamed: 3  12 non-null     object\n",
            " 4   Unnamed: 4  6 non-null      object\n",
            "dtypes: object(5)\n",
            "memory usage: 217.8+ KB\n"
          ]
        }
      ],
      "source": [
        "df.info()"
      ]
    },
    {
      "cell_type": "code",
      "execution_count": 45,
      "metadata": {
        "colab": {
          "base_uri": "https://localhost:8080/",
          "height": 241
        },
        "id": "e0XyQuGoqDwm",
        "outputId": "5add6c31-cd43-4643-ce74-ecc8e71b4198"
      },
      "outputs": [
        {
          "data": {
            "application/vnd.microsoft.datawrangler.viewer.v0+json": {
              "columns": [
                {
                  "name": "index",
                  "rawType": "object",
                  "type": "string"
                },
                {
                  "name": "0",
                  "rawType": "int64",
                  "type": "integer"
                }
              ],
              "ref": "5ec925d8-92a1-46c6-ab51-80e9f6924cbe",
              "rows": [
                [
                  "v1",
                  "0"
                ],
                [
                  "v2",
                  "0"
                ],
                [
                  "Unnamed: 2",
                  "5522"
                ],
                [
                  "Unnamed: 3",
                  "5560"
                ],
                [
                  "Unnamed: 4",
                  "5566"
                ]
              ],
              "shape": {
                "columns": 1,
                "rows": 5
              }
            },
            "text/plain": [
              "v1               0\n",
              "v2               0\n",
              "Unnamed: 2    5522\n",
              "Unnamed: 3    5560\n",
              "Unnamed: 4    5566\n",
              "dtype: int64"
            ]
          },
          "execution_count": 45,
          "metadata": {},
          "output_type": "execute_result"
        }
      ],
      "source": [
        "#checking for missing values.\n",
        "df.isnull().sum()"
      ]
    },
    {
      "cell_type": "code",
      "execution_count": 46,
      "metadata": {
        "colab": {
          "base_uri": "https://localhost:8080/"
        },
        "id": "JXpfqPGlqNWT",
        "outputId": "9b9ad1be-e1c6-41b8-a2aa-4983a134ee71"
      },
      "outputs": [
        {
          "data": {
            "text/plain": [
              "array(['ham', 'spam'], dtype=object)"
            ]
          },
          "execution_count": 46,
          "metadata": {},
          "output_type": "execute_result"
        }
      ],
      "source": [
        "df['v1'].unique()"
      ]
    },
    {
      "cell_type": "code",
      "execution_count": 47,
      "metadata": {
        "colab": {
          "base_uri": "https://localhost:8080/"
        },
        "id": "5D4qgtHtqaAh",
        "outputId": "e9290fd8-d133-42d7-ccbf-32ebc71e830b"
      },
      "outputs": [
        {
          "data": {
            "text/plain": [
              "403"
            ]
          },
          "execution_count": 47,
          "metadata": {},
          "output_type": "execute_result"
        }
      ],
      "source": [
        "#checking for duplicates.\n",
        "df.duplicated().sum()"
      ]
    },
    {
      "cell_type": "markdown",
      "metadata": {},
      "source": [
        "## Data Preparation and Cleaning."
      ]
    },
    {
      "cell_type": "code",
      "execution_count": 48,
      "metadata": {
        "id": "2F0Gjr0sqlJA"
      },
      "outputs": [],
      "source": [
        "#remove duplicates\n",
        "df.drop_duplicates(inplace=True)"
      ]
    },
    {
      "cell_type": "markdown",
      "metadata": {},
      "source": [
        "The technique helps to understand the distribution of categorical variables in the dataset  and checking what categories exist and how frequently they appear."
      ]
    },
    {
      "cell_type": "code",
      "execution_count": 49,
      "metadata": {
        "colab": {
          "base_uri": "https://localhost:8080/"
        },
        "id": "bry3CnPSqoEl",
        "outputId": "8c313778-6fe7-4768-a093-08a1a7714306"
      },
      "outputs": [
        {
          "name": "stdout",
          "output_type": "stream",
          "text": [
            "v1\n",
            "v1\n",
            "ham     4516\n",
            "spam     653\n",
            "Name: count, dtype: int64\n",
            "******************************\n",
            "v2\n",
            "v2\n",
            "Go until jurong point, crazy.. Available only in bugis n great world la e buffet... Cine there got amore wat...                                               1\n",
            "Wake me up at  &lt;#&gt;  am morning:)                                                                                                                        1\n",
            "I will reach ur home in  &lt;#&gt;  minutes                                                                                                                   1\n",
            "Wait.i will come out.. &lt;#&gt;  min:)                                                                                                                       1\n",
            "R u here yet? I'm wearing blue shirt n black pants.                                                                                                           1\n",
            "                                                                                                                                                             ..\n",
            ";-( oh well, c u later                                                                                                                                        1\n",
            "BIG BROTHER ALERT! The computer has selected u for 10k cash or #150 voucher. Call 09064018838. NTT PO Box CRO1327 18+ BT Landline Cost 150ppm mobiles vary    1\n",
            "Buy Space Invaders 4 a chance 2 win orig Arcade Game console. Press 0 for Games Arcade (std WAP charge) See o2.co.uk/games 4 Terms + settings. No purchase    1\n",
            "Call FREEPHONE 0800 542 0578 now!                                                                                                                             1\n",
            "Rofl. Its true to its name                                                                                                                                    1\n",
            "Name: count, Length: 5169, dtype: int64\n",
            "******************************\n",
            "Unnamed: 2\n",
            "Unnamed: 2\n",
            " PO Box 5249                                                                                                                                        1\n",
            " its a miracle to Love a person who can't Love anyone except U...\\\" Gud nyt...\"                                                                     1\n",
            " SHE SHUDVETOLD U. DID URGRAN KNOW?NEWAY                                                                                                            1\n",
            " but watever u shared should be true\\\"....\"                                                                                                         1\n",
            " like you are the KING\\\"...! OR \\\"Walk like you Dont care                                                                                           1\n",
            " HAD A COOL NYTHO                                                                                                                                   1\n",
            " PO Box 1146 MK45 2WT (2/3)\"                                                                                                                        1\n",
            " \\\"It is d wonderful fruit that a tree gives when it is being hurt by a stone.. Good night......\"                                                   1\n",
            " we made you hold all the weed\\\"\"                                                                                                                   1\n",
            " but dont try to prove it..\\\" .Gud noon....\"                                                                                                        1\n",
            " Gud night....\"                                                                                                                                     1\n",
            "Well there's still a bit left if you guys want to tonight                                                                                           1\n",
            " that's the tiny street where the parking lot is\"                                                                                                   1\n",
            "PROBPOP IN & CU SATTHEN HUNNY 4BREKKIE! LOVE JEN XXX. PSXTRA LRG PORTIONS 4 ME PLEASE \\\"\"                                                           1\n",
            " hopeSo hunny. i amnow feelin ill & ithink i may have tonsolitusaswell! damn iam layin in bedreal bored. lotsof luv me xxxx\\\"\"                      1\n",
            " GOD said                                                                                                                                           1\n",
            " always give response 2 who cares 4 U\\\"... Gud night..swt dreams..take care\"                                                                        1\n",
            " HOPE UR OK... WILL GIVE U A BUZ WEDLUNCH. GO OUTSOMEWHERE 4 ADRINK IN TOWN..CUD GO 2WATERSHD 4 A BIT? PPL FROMWRK WILL BTHERE. LOVE PETEXXX.\\\"\"    1\n",
            " b'coz nobody will fight for u. Only u &amp; u have to fight for ur self &amp; win the battle. -VIVEKANAND- G 9t.. SD..\"                            1\n",
            "DEVIOUSBITCH.ANYWAY                                                                                                                                 1\n",
            " but dont try to prove\\\" ..... Gud mrng...\"                                                                                                         1\n",
            " Dont Come Near My Body..!! Bcoz My Hands May Not Come 2 Wipe Ur Tears Off That Time..!Gud ni8\"                                                     1\n",
            " the person is definitely special for u..... But if the person is so special                                                                        1\n",
            " don't miss ur best life for anything... Gud nyt...\"                                                                                                1\n",
            " HOWU DOIN? FOUNDURSELF A JOBYET SAUSAGE?LOVE JEN XXX\\\"\"                                                                                            1\n",
            " wanted to say hi. HI!!!\\\" Stop? Send STOP to 62468\"                                                                                                1\n",
            "this wont even start........ Datz confidence..\"                                                                                                     1\n",
            "GN                                                                                                                                                  1\n",
            ".;-):-D\"                                                                                                                                            1\n",
            "just been in bedbut mite go 2 thepub l8tr if uwana mt up?loads a luv Jenxxx.\\\"\"                                                                     1\n",
            " bt not his girlfrnd... G o o d n i g h t . . .@\"                                                                                                   1\n",
            " I'll come up\"                                                                                                                                      1\n",
            " just as a shop has to give a guarantee on what they sell. B. G.\"                                                                                   1\n",
            " I don't mind                                                                                                                                       1\n",
            " But at d end my love compromised me for everything:-(\\\".. Gud mornin:-)\"                                                                           1\n",
            " the toughest is acting Happy with all unspoken pain inside..\\\"\"                                                                                    1\n",
            " smoke hella weed\\\"\"                                                                                                                                1\n",
            "\\\" not \\\"what i need to do.\\\"\"                                                                                                                      1\n",
            "JUST GOT PAYED2DAY & I HAVBEEN GIVEN Aå£50 PAY RISE 4MY WORK & HAVEBEEN MADE PRESCHOOLCO-ORDINATOR 2I AM FEELINGOOD LUV\\\"\"                          1\n",
            " justthought iåÕd sayhey! how u doin?nearly the endof me wk offdam nevamind!We will have 2Hook up sn if uwant m8? loveJen x.\\\"\"                     1\n",
            "JUST REALLYNEED 2DOCD.PLEASE DONTPLEASE DONTIGNORE MYCALLS                                                                                          1\n",
            "u hav2hear it!c u sn xxxx\\\"\"                                                                                                                        1\n",
            " ENJOYIN INDIANS AT THE MO..yeP. SaLL gOoD HehE ;> hows bout u shexy? Pete Xx\\\"\"                                                                    1\n",
            "Name: count, dtype: int64\n",
            "******************************\n",
            "Unnamed: 3\n",
            "Unnamed: 3\n",
            " MK17 92H. 450Ppw 16\"                         1\n",
            " why to miss them                             1\n",
            "GE                                            1\n",
            "U NO THECD ISV.IMPORTANT TOME 4 2MORO\\\"\"      1\n",
            "i wil tolerat.bcs ur my someone..... But      1\n",
            " ILLSPEAK 2 U2MORO WEN IM NOT ASLEEP...\\\"\"    1\n",
            "whoever is the KING\\\"!... Gud nyt\"            1\n",
            " TX 4 FONIN HON                               1\n",
            " \\\"OH No! COMPETITION\\\". Who knew             1\n",
            "IåÕL CALL U\\\"\"                                1\n",
            "Name: count, dtype: int64\n",
            "******************************\n",
            "Unnamed: 4\n",
            "Unnamed: 4\n",
            " just Keep-in-touch\\\" gdeve..\"                              1\n",
            "GNT:-)\"                                                     1\n",
            " Never comfort me with a lie\\\" gud ni8 and sweet dreams\"    1\n",
            " CALL 2MWEN IM BK FRMCLOUD 9! J X\\\"\"                        1\n",
            " one day these two will become FREINDS FOREVER!\"            1\n",
            "Name: count, dtype: int64\n",
            "******************************\n"
          ]
        }
      ],
      "source": [
        " #Loop through each column that contains text/categorical data\n",
        "for i in df.select_dtypes(include=\"object\").columns:   \n",
        "    # Print the name of the current column being analyzed\n",
        "    print(i)   \n",
        "    \n",
        "    # Print the frequency count of each unique value in this column\n",
        "    # value_counts() returns a series showing how many times each value appears\n",
        "    # Results are automatically sorted from most frequent to least frequent\n",
        "    print(df[i].value_counts())   \n",
        "    \n",
        "    # Print a visual separator line (30 asterisks) to clearly separate \n",
        "    # the output for each column for better readability\n",
        "    print(\"***\"*10)"
      ]
    },
    {
      "cell_type": "code",
      "execution_count": 50,
      "metadata": {
        "colab": {
          "base_uri": "https://localhost:8080/",
          "height": 206
        },
        "id": "CKiiHhWuq3TJ",
        "outputId": "0944bb33-a871-4484-da08-24592a4af37d"
      },
      "outputs": [
        {
          "data": {
            "application/vnd.microsoft.datawrangler.viewer.v0+json": {
              "columns": [
                {
                  "name": "index",
                  "rawType": "object",
                  "type": "string"
                },
                {
                  "name": "count",
                  "rawType": "object",
                  "type": "unknown"
                },
                {
                  "name": "unique",
                  "rawType": "object",
                  "type": "unknown"
                },
                {
                  "name": "top",
                  "rawType": "object",
                  "type": "string"
                },
                {
                  "name": "freq",
                  "rawType": "object",
                  "type": "unknown"
                }
              ],
              "ref": "07db3130-40f2-4ff5-b9da-a68f963b6928",
              "rows": [
                [
                  "v1",
                  "5169",
                  "2",
                  "ham",
                  "4516"
                ],
                [
                  "v2",
                  "5169",
                  "5169",
                  "Go until jurong point, crazy.. Available only in bugis n great world la e buffet... Cine there got amore wat...",
                  "1"
                ],
                [
                  "Unnamed: 2",
                  "43",
                  "43",
                  " PO Box 5249",
                  "1"
                ],
                [
                  "Unnamed: 3",
                  "10",
                  "10",
                  " MK17 92H. 450Ppw 16\"",
                  "1"
                ],
                [
                  "Unnamed: 4",
                  "5",
                  "5",
                  " just Keep-in-touch\\\" gdeve..\"",
                  "1"
                ]
              ],
              "shape": {
                "columns": 4,
                "rows": 5
              }
            },
            "text/html": [
              "<div>\n",
              "<style scoped>\n",
              "    .dataframe tbody tr th:only-of-type {\n",
              "        vertical-align: middle;\n",
              "    }\n",
              "\n",
              "    .dataframe tbody tr th {\n",
              "        vertical-align: top;\n",
              "    }\n",
              "\n",
              "    .dataframe thead th {\n",
              "        text-align: right;\n",
              "    }\n",
              "</style>\n",
              "<table border=\"1\" class=\"dataframe\">\n",
              "  <thead>\n",
              "    <tr style=\"text-align: right;\">\n",
              "      <th></th>\n",
              "      <th>count</th>\n",
              "      <th>unique</th>\n",
              "      <th>top</th>\n",
              "      <th>freq</th>\n",
              "    </tr>\n",
              "  </thead>\n",
              "  <tbody>\n",
              "    <tr>\n",
              "      <th>v1</th>\n",
              "      <td>5169</td>\n",
              "      <td>2</td>\n",
              "      <td>ham</td>\n",
              "      <td>4516</td>\n",
              "    </tr>\n",
              "    <tr>\n",
              "      <th>v2</th>\n",
              "      <td>5169</td>\n",
              "      <td>5169</td>\n",
              "      <td>Go until jurong point, crazy.. Available only ...</td>\n",
              "      <td>1</td>\n",
              "    </tr>\n",
              "    <tr>\n",
              "      <th>Unnamed: 2</th>\n",
              "      <td>43</td>\n",
              "      <td>43</td>\n",
              "      <td>PO Box 5249</td>\n",
              "      <td>1</td>\n",
              "    </tr>\n",
              "    <tr>\n",
              "      <th>Unnamed: 3</th>\n",
              "      <td>10</td>\n",
              "      <td>10</td>\n",
              "      <td>MK17 92H. 450Ppw 16\"</td>\n",
              "      <td>1</td>\n",
              "    </tr>\n",
              "    <tr>\n",
              "      <th>Unnamed: 4</th>\n",
              "      <td>5</td>\n",
              "      <td>5</td>\n",
              "      <td>just Keep-in-touch\\\" gdeve..\"</td>\n",
              "      <td>1</td>\n",
              "    </tr>\n",
              "  </tbody>\n",
              "</table>\n",
              "</div>"
            ],
            "text/plain": [
              "           count unique                                                top  \\\n",
              "v1          5169      2                                                ham   \n",
              "v2          5169   5169  Go until jurong point, crazy.. Available only ...   \n",
              "Unnamed: 2    43     43                                        PO Box 5249   \n",
              "Unnamed: 3    10     10                               MK17 92H. 450Ppw 16\"   \n",
              "Unnamed: 4     5      5                      just Keep-in-touch\\\" gdeve..\"   \n",
              "\n",
              "            freq  \n",
              "v1          4516  \n",
              "v2             1  \n",
              "Unnamed: 2     1  \n",
              "Unnamed: 3     1  \n",
              "Unnamed: 4     1  "
            ]
          },
          "execution_count": 50,
          "metadata": {},
          "output_type": "execute_result"
        }
      ],
      "source": [
        "df.describe().T"
      ]
    },
    {
      "cell_type": "code",
      "execution_count": 51,
      "metadata": {
        "colab": {
          "base_uri": "https://localhost:8080/",
          "height": 206
        },
        "id": "BFhakPrUrOE1",
        "outputId": "1f0e79b9-be64-40b2-8b09-403cc786bd2e"
      },
      "outputs": [
        {
          "data": {
            "application/vnd.microsoft.datawrangler.viewer.v0+json": {
              "columns": [
                {
                  "name": "index",
                  "rawType": "int64",
                  "type": "integer"
                },
                {
                  "name": "label",
                  "rawType": "object",
                  "type": "string"
                },
                {
                  "name": "message",
                  "rawType": "object",
                  "type": "string"
                }
              ],
              "ref": "683a29e9-7749-49ac-9546-7aac921b7309",
              "rows": [
                [
                  "0",
                  "ham",
                  "Go until jurong point, crazy.. Available only in bugis n great world la e buffet... Cine there got amore wat..."
                ],
                [
                  "1",
                  "ham",
                  "Ok lar... Joking wif u oni..."
                ],
                [
                  "2",
                  "spam",
                  "Free entry in 2 a wkly comp to win FA Cup final tkts 21st May 2005. Text FA to 87121 to receive entry question(std txt rate)T&C's apply 08452810075over18's"
                ],
                [
                  "3",
                  "ham",
                  "U dun say so early hor... U c already then say..."
                ],
                [
                  "4",
                  "ham",
                  "Nah I don't think he goes to usf, he lives around here though"
                ]
              ],
              "shape": {
                "columns": 2,
                "rows": 5
              }
            },
            "text/html": [
              "<div>\n",
              "<style scoped>\n",
              "    .dataframe tbody tr th:only-of-type {\n",
              "        vertical-align: middle;\n",
              "    }\n",
              "\n",
              "    .dataframe tbody tr th {\n",
              "        vertical-align: top;\n",
              "    }\n",
              "\n",
              "    .dataframe thead th {\n",
              "        text-align: right;\n",
              "    }\n",
              "</style>\n",
              "<table border=\"1\" class=\"dataframe\">\n",
              "  <thead>\n",
              "    <tr style=\"text-align: right;\">\n",
              "      <th></th>\n",
              "      <th>label</th>\n",
              "      <th>message</th>\n",
              "    </tr>\n",
              "  </thead>\n",
              "  <tbody>\n",
              "    <tr>\n",
              "      <th>0</th>\n",
              "      <td>ham</td>\n",
              "      <td>Go until jurong point, crazy.. Available only ...</td>\n",
              "    </tr>\n",
              "    <tr>\n",
              "      <th>1</th>\n",
              "      <td>ham</td>\n",
              "      <td>Ok lar... Joking wif u oni...</td>\n",
              "    </tr>\n",
              "    <tr>\n",
              "      <th>2</th>\n",
              "      <td>spam</td>\n",
              "      <td>Free entry in 2 a wkly comp to win FA Cup fina...</td>\n",
              "    </tr>\n",
              "    <tr>\n",
              "      <th>3</th>\n",
              "      <td>ham</td>\n",
              "      <td>U dun say so early hor... U c already then say...</td>\n",
              "    </tr>\n",
              "    <tr>\n",
              "      <th>4</th>\n",
              "      <td>ham</td>\n",
              "      <td>Nah I don't think he goes to usf, he lives aro...</td>\n",
              "    </tr>\n",
              "  </tbody>\n",
              "</table>\n",
              "</div>"
            ],
            "text/plain": [
              "  label                                            message\n",
              "0   ham  Go until jurong point, crazy.. Available only ...\n",
              "1   ham                      Ok lar... Joking wif u oni...\n",
              "2  spam  Free entry in 2 a wkly comp to win FA Cup fina...\n",
              "3   ham  U dun say so early hor... U c already then say...\n",
              "4   ham  Nah I don't think he goes to usf, he lives aro..."
            ]
          },
          "execution_count": 51,
          "metadata": {},
          "output_type": "execute_result"
        }
      ],
      "source": [
        "df = df.iloc[:, :2]\n",
        "df.columns = [\"label\", \"message\"] #rename columns\n",
        "df.head()"
      ]
    },
    {
      "cell_type": "code",
      "execution_count": 52,
      "metadata": {
        "colab": {
          "base_uri": "https://localhost:8080/",
          "height": 206
        },
        "id": "9O2rwzw1rDuS",
        "outputId": "4e76337a-9c2d-4abe-e3d6-028def7a733e"
      },
      "outputs": [
        {
          "data": {
            "application/vnd.microsoft.datawrangler.viewer.v0+json": {
              "columns": [
                {
                  "name": "index",
                  "rawType": "int64",
                  "type": "integer"
                },
                {
                  "name": "label",
                  "rawType": "int64",
                  "type": "integer"
                },
                {
                  "name": "message",
                  "rawType": "object",
                  "type": "string"
                }
              ],
              "ref": "d562388f-a75f-4208-bfe1-4cbf80fd6d70",
              "rows": [
                [
                  "0",
                  "0",
                  "Go until jurong point, crazy.. Available only in bugis n great world la e buffet... Cine there got amore wat..."
                ],
                [
                  "1",
                  "0",
                  "Ok lar... Joking wif u oni..."
                ],
                [
                  "2",
                  "1",
                  "Free entry in 2 a wkly comp to win FA Cup final tkts 21st May 2005. Text FA to 87121 to receive entry question(std txt rate)T&C's apply 08452810075over18's"
                ],
                [
                  "3",
                  "0",
                  "U dun say so early hor... U c already then say..."
                ],
                [
                  "4",
                  "0",
                  "Nah I don't think he goes to usf, he lives around here though"
                ]
              ],
              "shape": {
                "columns": 2,
                "rows": 5
              }
            },
            "text/html": [
              "<div>\n",
              "<style scoped>\n",
              "    .dataframe tbody tr th:only-of-type {\n",
              "        vertical-align: middle;\n",
              "    }\n",
              "\n",
              "    .dataframe tbody tr th {\n",
              "        vertical-align: top;\n",
              "    }\n",
              "\n",
              "    .dataframe thead th {\n",
              "        text-align: right;\n",
              "    }\n",
              "</style>\n",
              "<table border=\"1\" class=\"dataframe\">\n",
              "  <thead>\n",
              "    <tr style=\"text-align: right;\">\n",
              "      <th></th>\n",
              "      <th>label</th>\n",
              "      <th>message</th>\n",
              "    </tr>\n",
              "  </thead>\n",
              "  <tbody>\n",
              "    <tr>\n",
              "      <th>0</th>\n",
              "      <td>0</td>\n",
              "      <td>Go until jurong point, crazy.. Available only ...</td>\n",
              "    </tr>\n",
              "    <tr>\n",
              "      <th>1</th>\n",
              "      <td>0</td>\n",
              "      <td>Ok lar... Joking wif u oni...</td>\n",
              "    </tr>\n",
              "    <tr>\n",
              "      <th>2</th>\n",
              "      <td>1</td>\n",
              "      <td>Free entry in 2 a wkly comp to win FA Cup fina...</td>\n",
              "    </tr>\n",
              "    <tr>\n",
              "      <th>3</th>\n",
              "      <td>0</td>\n",
              "      <td>U dun say so early hor... U c already then say...</td>\n",
              "    </tr>\n",
              "    <tr>\n",
              "      <th>4</th>\n",
              "      <td>0</td>\n",
              "      <td>Nah I don't think he goes to usf, he lives aro...</td>\n",
              "    </tr>\n",
              "  </tbody>\n",
              "</table>\n",
              "</div>"
            ],
            "text/plain": [
              "   label                                            message\n",
              "0      0  Go until jurong point, crazy.. Available only ...\n",
              "1      0                      Ok lar... Joking wif u oni...\n",
              "2      1  Free entry in 2 a wkly comp to win FA Cup fina...\n",
              "3      0  U dun say so early hor... U c already then say...\n",
              "4      0  Nah I don't think he goes to usf, he lives aro..."
            ]
          },
          "execution_count": 52,
          "metadata": {},
          "output_type": "execute_result"
        }
      ],
      "source": [
        "df[\"label\"] = df[\"label\"].map({\"ham\": 0, \"spam\": 1})\n",
        "df.head()"
      ]
    },
    {
      "cell_type": "markdown",
      "metadata": {},
      "source": [
        "Performing text preprocessing on a 'message' column \n",
        "- 1. Convert to lowercase.\n",
        "- 2. Remove punctuation.\n",
        "- 3. Remove numbers.\n",
        "- 4. Clean up extra whitespace\n",
        "\n",
        "Cleaning and standardized text improves model performance and ensures consistent processing of new sms.\n"
      ]
    },
    {
      "cell_type": "code",
      "execution_count": 53,
      "metadata": {
        "id": "cCTvepUrrvm8"
      },
      "outputs": [
        {
          "data": {
            "application/vnd.microsoft.datawrangler.viewer.v0+json": {
              "columns": [
                {
                  "name": "index",
                  "rawType": "int64",
                  "type": "integer"
                },
                {
                  "name": "label",
                  "rawType": "int64",
                  "type": "integer"
                },
                {
                  "name": "message",
                  "rawType": "object",
                  "type": "string"
                }
              ],
              "ref": "6cb30abf-0e3c-4bde-a99c-d7cb25cd1b67",
              "rows": [
                [
                  "0",
                  "0",
                  "go until jurong point crazy available only in bugis n great world la e buffet cine there got amore wat"
                ],
                [
                  "1",
                  "0",
                  "ok lar joking wif u oni"
                ],
                [
                  "2",
                  "1",
                  "free entry in a wkly comp to win fa cup final tkts st may text fa to to receive entry questionstd txt ratetcs apply overs"
                ],
                [
                  "3",
                  "0",
                  "u dun say so early hor u c already then say"
                ],
                [
                  "4",
                  "0",
                  "nah i dont think he goes to usf he lives around here though"
                ]
              ],
              "shape": {
                "columns": 2,
                "rows": 5
              }
            },
            "text/html": [
              "<div>\n",
              "<style scoped>\n",
              "    .dataframe tbody tr th:only-of-type {\n",
              "        vertical-align: middle;\n",
              "    }\n",
              "\n",
              "    .dataframe tbody tr th {\n",
              "        vertical-align: top;\n",
              "    }\n",
              "\n",
              "    .dataframe thead th {\n",
              "        text-align: right;\n",
              "    }\n",
              "</style>\n",
              "<table border=\"1\" class=\"dataframe\">\n",
              "  <thead>\n",
              "    <tr style=\"text-align: right;\">\n",
              "      <th></th>\n",
              "      <th>label</th>\n",
              "      <th>message</th>\n",
              "    </tr>\n",
              "  </thead>\n",
              "  <tbody>\n",
              "    <tr>\n",
              "      <th>0</th>\n",
              "      <td>0</td>\n",
              "      <td>go until jurong point crazy available only in ...</td>\n",
              "    </tr>\n",
              "    <tr>\n",
              "      <th>1</th>\n",
              "      <td>0</td>\n",
              "      <td>ok lar joking wif u oni</td>\n",
              "    </tr>\n",
              "    <tr>\n",
              "      <th>2</th>\n",
              "      <td>1</td>\n",
              "      <td>free entry in a wkly comp to win fa cup final ...</td>\n",
              "    </tr>\n",
              "    <tr>\n",
              "      <th>3</th>\n",
              "      <td>0</td>\n",
              "      <td>u dun say so early hor u c already then say</td>\n",
              "    </tr>\n",
              "    <tr>\n",
              "      <th>4</th>\n",
              "      <td>0</td>\n",
              "      <td>nah i dont think he goes to usf he lives aroun...</td>\n",
              "    </tr>\n",
              "  </tbody>\n",
              "</table>\n",
              "</div>"
            ],
            "text/plain": [
              "   label                                            message\n",
              "0      0  go until jurong point crazy available only in ...\n",
              "1      0                            ok lar joking wif u oni\n",
              "2      1  free entry in a wkly comp to win fa cup final ...\n",
              "3      0        u dun say so early hor u c already then say\n",
              "4      0  nah i dont think he goes to usf he lives aroun..."
            ]
          },
          "execution_count": 53,
          "metadata": {},
          "output_type": "execute_result"
        }
      ],
      "source": [
        "# Step 1: Convert all text to lowercase for consistency\n",
        "df['message'] = df['message'].str.lower()\n",
        "\n",
        "# Step 2: Remove all punctuation marks from the text\n",
        "# Uses regex to find any character in string.punctuation (.,!?;: etc.) and replace with empty string\n",
        "df['message'] = df['message'].apply(lambda x: re.sub(f\"[{string.punctuation}]\", \"\", x))\n",
        "\n",
        "# Step 3: Remove all numbers from the text\n",
        "# Uses regex pattern \\d+ to find sequences of one or more digits and remove them\n",
        "df['message'] = df['message'].apply(lambda x: re.sub(r'\\d+', '', x))\n",
        "\n",
        "# Step 4: Clean up extra whitespace and normalize spacing\n",
        "# x.split() splits the string into words (removes all types of whitespace)\n",
        "# \" \".join() reconnects the words with single spaces\n",
        "df['message'] = df['message'].apply(lambda x: \" \".join(x.split()))\n",
        "\n",
        "# Display the first 5 rows to see the results of text preprocessing\n",
        "df.head()"
      ]
    },
    {
      "cell_type": "markdown",
      "metadata": {},
      "source": [
        "#  Classification Distribution. \n",
        "Visualizing class imbalances in classification datasets.This will help in understand if you have equal representation of different categories or if some classes are over/under-represented this will enable us choose appropriate metrics and potential sampling strategies.\n"
      ]
    },
    {
      "cell_type": "code",
      "execution_count": 54,
      "metadata": {
        "colab": {
          "base_uri": "https://localhost:8080/",
          "height": 472
        },
        "id": "y-JHNHcYsZ4p",
        "outputId": "ca91fcf6-ce69-42c1-8a0c-8f660058934c"
      },
      "outputs": [
        {
          "data": {
            "image/png": "[encoded data removed]",
            "text/plain": [
              "<Figure size 640x480 with 1 Axes>"
            ]
          },
          "metadata": {},
          "output_type": "display_data"
        }
      ],
      "source": [
        "# Create a count plot to visualize the distribution of classes/categories\n",
        "# x='label' specifies that we want to count occurrences of each unique value in the 'label' column\n",
        "# data=df specifies the DataFrame to use as the data source\n",
        "sns.countplot(x='label', data=df)\n",
        "\n",
        "# Add a descriptive title to the plot for better understanding\n",
        "plt.title('Class Distribution')\n",
        "\n",
        "# Display the plot \n",
        "plt.show()"
      ]
    },
    {
      "cell_type": "markdown",
      "metadata": {},
      "source": [
        "Creating a CountVectorizer object that will convert text to numerical features"
      ]
    },
    {
      "cell_type": "code",
      "execution_count": 55,
      "metadata": {
        "colab": {
          "base_uri": "https://localhost:8080/"
        },
        "id": "TeRfQFqvsyrT",
        "outputId": "36ce8fde-88cf-4f14-d175-592b49818b49"
      },
      "outputs": [
        {
          "name": "stdout",
          "output_type": "stream",
          "text": [
            "Count Vectorizer Shape: (5169, 8293)\n"
          ]
        }
      ],
      "source": [
        "# Tokenization using CountVectorizer\n",
        "\n",
        "# stop_words='english' automatically removes common English words like 'the', 'and', 'is'\n",
        "# These stop words don't usually carry meaningful information for analysis\n",
        "vectorizer = CountVectorizer(stop_words='english')\n",
        "\n",
        "# Transform the text messages into a matrix of token counts\n",
        "# fit_transform() does two things:\n",
        "# 1. fit(): learns the vocabulary from all messages in df['message']\n",
        "# 2. transform(): converts each message into a vector of word counts\n",
        "# Each row represents a message, each column represents a unique word\n",
        "X_counts = vectorizer.fit_transform(df['message'])\n",
        "\n",
        "# Display the dimensions of the resulting sparse matrix\n",
        "# Shape shows (number_of_messages, number_of_unique_words_in_vocabulary)\n",
        "# This helps understand the size of our feature space for machine learning\n",
        "print(\"Count Vectorizer Shape:\", X_counts.shape)\n"
      ]
    },
    {
      "cell_type": "markdown",
      "metadata": {},
      "source": [
        "Create a TF-IDF (Term Frequency-Inverse Document Frequency) vectorizer\n",
        " Unlike CountVectorizer which just counts words, TF-IDF considers:\n",
        " - How often a word appears in a document (Term Frequency)\n",
        " - How rare the word is across all documents (Inverse Document Frequency)\n",
        " This gives higher weights to words that are frequent in a document but rare overall\n"
      ]
    },
    {
      "cell_type": "code",
      "execution_count": 56,
      "metadata": {
        "colab": {
          "base_uri": "https://localhost:8080/"
        },
        "id": "WQXWuCp4tqoN",
        "outputId": "aea06193-1969-458e-b336-e3f9949d71be"
      },
      "outputs": [
        {
          "name": "stdout",
          "output_type": "stream",
          "text": [
            "TF-IDF Vectorizer Shape: (5169, 8293)\n"
          ]
        }
      ],
      "source": [
        "# TF-IDF Vectorization\n",
        "tfidf_vectorizer = TfidfVectorizer(stop_words='english')\n",
        "\n",
        "# Transform the text messages into a TF-IDF weighted matrix\n",
        "# fit_transform() performs two operations:\n",
        "# 1. fit(): calculates TF-IDF scores for all words across the entire corpus\n",
        "# 2. transform(): converts each message into a vector of TF-IDF scores\n",
        "# Each row represents a message, each column represents a unique word with its TF-IDF weight\n",
        "X_tfidf = tfidf_vectorizer.fit_transform(df['message'])\n",
        "\n",
        "# Display the dimensions of the resulting sparse matrix\n",
        "# Shape shows (number_of_messages, number_of_unique_words_in_vocabulary)\n",
        "# TF-IDF typically produces the same shape as CountVectorizer but with weighted values (0-1 range)\n",
        "print(\"TF-IDF Vectorizer Shape:\", X_tfidf.shape)"
      ]
    },
    {
      "cell_type": "markdown",
      "metadata": {},
      "source": [
        "#### Word Frequency Analysis.\n",
        "\n",
        "Understanding word patterns helps validate model decisions and identify potential spam indicators.\n"
      ]
    },
    {
      "cell_type": "code",
      "execution_count": 57,
      "metadata": {
        "id": "jV9l4s-Vtw50"
      },
      "outputs": [
        {
          "name": "stdout",
          "output_type": "stream",
          "text": [
            "Top 20 most common words in spam messages:\n",
            "to: 594\n",
            "a: 332\n",
            "call: 305\n",
            "you: 259\n",
            "your: 241\n",
            "å£: 221\n",
            "free: 190\n",
            "for: 183\n",
            "the: 181\n",
            "now: 157\n",
            "or: 157\n",
            "is: 144\n",
            "u: 130\n",
            "txt: 126\n",
            "on: 121\n",
            "from: 120\n",
            "ur: 119\n",
            "have: 115\n",
            "mobile: 106\n",
            "text: 104\n",
            "\n",
            "==================================================\n",
            "\n"
          ]
        }
      ],
      "source": [
        "# Displaying most common words in spam messages\n",
        "\n",
        "# Initialize an empty list to collect all words from spam messages\n",
        "spam_corpus = []\n",
        "\n",
        "# Loop through all messages labeled as spam (assuming 1 = spam, 0 = ham/not spam)\n",
        "for msg in df[df['label'] == 1]['message']:\n",
        "    # Split each message into individual words and add them to our corpus\n",
        "    # extend() adds all words from the split as separate elements\n",
        "    spam_corpus.extend(msg.split())\n",
        "\n",
        "# Import Counter to efficiently count word frequencies\n",
        "from collections import Counter\n",
        "\n",
        "# Count the frequency of each word in the spam corpus\n",
        "spam_counter = Counter(spam_corpus)\n",
        "\n",
        "# Get the 20 most frequently occurring words in spam messages\n",
        "# Returns a list of tuples: [(word, count), (word, count), ...]\n",
        "most_common_spam = spam_counter.most_common(20)\n",
        "\n",
        "# Display the results\n",
        "print(\"Top 20 most common words in spam messages:\")\n",
        "for word, count in most_common_spam:\n",
        "    print(f\"{word}: {count}\")\n",
        "\n",
        "print(\"\\n\" + \"=\"*50 + \"\\n\")\n"
      ]
    },
    {
      "cell_type": "code",
      "execution_count": 80,
      "metadata": {},
      "outputs": [
        {
          "data": {
            "image/png": "[encoded data removed]",
            "text/plain": [
              "<Figure size 1000x600 with 1 Axes>"
            ]
          },
          "metadata": {},
          "output_type": "display_data"
        }
      ],
      "source": [
        " # Extract words and counts for plotting\n",
        "words = [item[0] for item in most_common_spam[:10]]  # Top 10 for better readability\n",
        "counts = [item[1] for item in most_common_spam[:10]]\n",
        "    \n",
        "    # Create horizontal bar plot for better word readability\n",
        "plt.figure(figsize=(10, 6))\n",
        "plt.barh(range(len(words)), counts)\n",
        "plt.yticks(range(len(words)), words)\n",
        "plt.xlabel('Frequency')\n",
        "plt.title('Top 10 Most Common Words in Spam Messages')\n",
        "plt.gca().invert_yaxis()  # Show highest frequency at top\n",
        "plt.tight_layout()\n",
        "plt.show()"
      ]
    },
    {
      "cell_type": "code",
      "execution_count": 81,
      "metadata": {
        "id": "HI6Q7Njut5fu"
      },
      "outputs": [
        {
          "name": "stdout",
          "output_type": "stream",
          "text": [
            "Top 20 most common words in ham (legitimate) messages:\n",
            "--------------------------------------------------\n",
            " 1. i               : 2070 occurrences\n",
            " 2. you             : 1772 occurrences\n",
            " 3. to              : 1474 occurrences\n",
            " 4. the             : 1045 occurrences\n",
            " 5. a               :  958 occurrences\n",
            " 6. u               :  887 occurrences\n",
            " 7. and             :  818 occurrences\n",
            " 8. in              :  753 occurrences\n",
            " 9. me              :  710 occurrences\n",
            "10. my              :  668 occurrences\n",
            "11. is              :  645 occurrences\n",
            "12. it              :  544 occurrences\n",
            "13. of              :  477 occurrences\n",
            "14. for             :  476 occurrences\n",
            "15. that            :  472 occurrences\n",
            "16. im              :  433 occurrences\n",
            "17. have            :  421 occurrences\n",
            "18. but             :  400 occurrences\n",
            "19. so              :  399 occurrences\n",
            "20. are             :  391 occurrences\n"
          ]
        }
      ],
      "source": [
        "# Displaying most common words in ham (non-spam) messages\n",
        "\n",
        "# Initialize an empty list to collect all words from ham messages\n",
        "ham_corpus = []\n",
        "\n",
        "# Loop through all messages labeled as ham (assuming 0 = ham/legitimate, 1 = spam)\n",
        "# Filter the dataframe to get only rows where 'label' column equals 0\n",
        "for msg in df[df['label'] == 0]['message']:\n",
        "    # Split each ham message into individual words using whitespace as delimiter\n",
        "    # extend() adds all words from msg.split() as separate elements to ham_corpus\n",
        "    # This builds a comprehensive list of all words used in legitimate messages\n",
        "    ham_corpus.extend(msg.split())\n",
        "\n",
        "# Count the frequency of each word in the ham corpus\n",
        "# Counter creates a dictionary-like object that counts occurrences of each unique word\n",
        "ham_counter = Counter(ham_corpus)\n",
        "\n",
        "# Get the 20 most frequently occurring words in ham messages\n",
        "# Results are sorted from highest frequency to lowest\n",
        "most_common_ham = ham_counter.most_common(20)\n",
        "\n",
        "# Display the results in a readable format\n",
        "print(\"Top 20 most common words in ham (legitimate) messages:\")\n",
        "print(\"-\" * 50)\n",
        "for i, (word, count) in enumerate(most_common_ham, 1):\n",
        "    print(f\"{i:2d}. {word:<15} : {count:>4d} occurrences\")"
      ]
    },
    {
      "cell_type": "code",
      "execution_count": 87,
      "metadata": {
        "colab": {
          "base_uri": "https://localhost:8080/",
          "height": 488
        },
        "id": "dQaToXIKuCXu",
        "outputId": "ef0d1bf3-b61d-4862-91c9-7696d38dd7f4"
      },
      "outputs": [
        {
          "name": "stderr",
          "output_type": "stream",
          "text": [
            "c:\\Users\\USER\\anaconda3\\Lib\\site-packages\\seaborn\\_oldcore.py:1765: FutureWarning: unique with argument that is not not a Series, Index, ExtensionArray, or np.ndarray is deprecated and will raise in a future version.\n",
            "  order = pd.unique(vector)\n"
          ]
        },
        {
          "data": {
            "image/png": "[encoded data removed]",
            "text/plain": [
              "<Figure size 1000x500 with 1 Axes>"
            ]
          },
          "metadata": {},
          "output_type": "display_data"
        }
      ],
      "source": [
        "# Plot most common ham words\n",
        "plt.figure(figsize=(10,5))\n",
        "# Extract words and counts from the tuples and create a bar plot\n",
        "sns.barplot(x=[word[0] for word in most_common_ham], y=[word[1] for word in most_common_ham])\n",
        "# Rotate x-axis labels to prevent overlap\n",
        "plt.xticks(rotation=45)\n",
        "plt.title('Most Common Words in Ham Messages')\n",
        "plt.show()"
      ]
    },
    {
      "cell_type": "markdown",
      "metadata": {},
      "source": [
        "Create a new column 'message_length' that contains the character count of each message\n",
        "This helps us understand if spam and ham messages have different length patterns"
      ]
    },
    {
      "cell_type": "code",
      "execution_count": 92,
      "metadata": {
        "colab": {
          "base_uri": "https://localhost:8080/",
          "height": 487
        },
        "id": "FNOE7RkbuVwJ",
        "outputId": "567386f9-31e8-4bc7-bbb2-b89c31cfe784"
      },
      "outputs": [
        {
          "name": "stderr",
          "output_type": "stream",
          "text": [
            "c:\\Users\\USER\\anaconda3\\Lib\\site-packages\\seaborn\\_oldcore.py:1119: FutureWarning: use_inf_as_na option is deprecated and will be removed in a future version. Convert inf values to NaN before operating instead.\n",
            "  with pd.option_context('mode.use_inf_as_na', True):\n",
            "c:\\Users\\USER\\anaconda3\\Lib\\site-packages\\seaborn\\_oldcore.py:1119: FutureWarning: use_inf_as_na option is deprecated and will be removed in a future version. Convert inf values to NaN before operating instead.\n",
            "  with pd.option_context('mode.use_inf_as_na', True):\n"
          ]
        },
        {
          "data": {
            "image/png": "[encoded data removed]",
            "text/plain": [
              "<Figure size 1000x500 with 1 Axes>"
            ]
          },
          "metadata": {},
          "output_type": "display_data"
        }
      ],
      "source": [
        "# Check for message length distribution\n",
        "\n",
        "# Create a new column 'message_length' that contains the character count of each message\n",
        "# The len() function counts all characters including spaces, punctuation, and special characters\n",
        "\n",
        "df['message_length'] = df['message'].apply(len)\n",
        "\n",
        "# Create a figure \n",
        "plt.figure(figsize=(10,5))\n",
        "\n",
        "# Plot histogram for SPAM messages (label == 1)\n",
        "# color='red': Use red color to represent spam messages\n",
        "# label='Spam': Legend label for this dataset\n",
        "# kde=True: Add a Kernel Density Estimation curve (smooth line showing distribution shape)\n",
        "# bins=30: Divide the data into 30 bins/bars for the histogram\n",
        "sns.histplot(df[df['label'] == 1]['message_length'], color='red', label='Spam', kde=True, bins=30)\n",
        "\n",
        "# Plot histogram for HAM messages (label == 0) on the same plot\n",
        "# color='blue': Use blue color to represent legitimate messages\n",
        "# label='Ham': Legend label for this dataset\n",
        "# kde=True: Add smooth density curve to show distribution pattern\n",
        "# bins=30: Use same number of bins for fair comparison\n",
        "sns.histplot(df[df['label'] == 0]['message_length'], color='blue', label='Ham', kde=True, bins=30)\n",
        "\n",
        "# Add legend to distinguish between spam and ham distributions\n",
        "plt.legend()\n",
        "\n",
        "# Add  title \n",
        "plt.title('Message Length Distribution')\n",
        "\n",
        "# Display plot\n",
        "plt.show()\n",
        "\n"
      ]
    },
    {
      "cell_type": "markdown",
      "metadata": {},
      "source": [
        "## Model Development & Training\n",
        "\n",
        "### Data Splitting Strategy\n",
        "Proper train/test split ensures unbiased performance evaluation for deployment confidence."
      ]
    },
    {
      "cell_type": "code",
      "execution_count": 94,
      "metadata": {
        "colab": {
          "base_uri": "https://localhost:8080/",
          "height": 423
        },
        "id": "powCBq2PuEnu",
        "outputId": "3033610c-f9b8-41c9-f4d1-5def2ebabdf8"
      },
      "outputs": [
        {
          "data": {
            "application/vnd.microsoft.datawrangler.viewer.v0+json": {
              "columns": [
                {
                  "name": "index",
                  "rawType": "int64",
                  "type": "integer"
                },
                {
                  "name": "label",
                  "rawType": "int64",
                  "type": "integer"
                },
                {
                  "name": "message",
                  "rawType": "object",
                  "type": "string"
                },
                {
                  "name": "message_length",
                  "rawType": "int64",
                  "type": "integer"
                }
              ],
              "ref": "dfca2540-0805-413f-93cc-96deecfc7271",
              "rows": [
                [
                  "0",
                  "0",
                  "go until jurong point crazy available only in bugis n great world la e buffet cine there got amore wat",
                  "102"
                ],
                [
                  "1",
                  "0",
                  "ok lar joking wif u oni",
                  "23"
                ],
                [
                  "2",
                  "1",
                  "free entry in a wkly comp to win fa cup final tkts st may text fa to to receive entry questionstd txt ratetcs apply overs",
                  "121"
                ],
                [
                  "3",
                  "0",
                  "u dun say so early hor u c already then say",
                  "43"
                ],
                [
                  "4",
                  "0",
                  "nah i dont think he goes to usf he lives around here though",
                  "59"
                ],
                [
                  "5",
                  "1",
                  "freemsg hey there darling its been weeks now and no word back id like some fun you up for it still tb ok xxx std chgs to send å£ to rcv",
                  "135"
                ],
                [
                  "6",
                  "0",
                  "even my brother is not like to speak with me they treat me like aids patent",
                  "75"
                ],
                [
                  "7",
                  "0",
                  "as per your request melle melle oru minnaminunginte nurungu vettam has been set as your callertune for all callers press to copy your friends callertune",
                  "152"
                ],
                [
                  "8",
                  "1",
                  "winner as a valued network customer you have been selected to receivea å£ prize reward to claim call claim code kl valid hours only",
                  "131"
                ],
                [
                  "9",
                  "1",
                  "had your mobile months or more u r entitled to update to the latest colour mobiles with camera for free call the mobile update co free on",
                  "137"
                ],
                [
                  "10",
                  "0",
                  "im gonna be home soon and i dont want to talk about this stuff anymore tonight k ive cried enough today",
                  "103"
                ],
                [
                  "11",
                  "1",
                  "six chances to win cash from to pounds txt csh and send to cost pday days tsandcs apply reply hl info",
                  "101"
                ],
                [
                  "12",
                  "1",
                  "urgent you have won a week free membership in our å£ prize jackpot txt the word claim to no tc wwwdbuknet lccltd pobox ldnwarw",
                  "126"
                ],
                [
                  "13",
                  "0",
                  "ive been searching for the right words to thank you for this breather i promise i wont take your help for granted and will fulfil my promise you have been wonderful and a blessing at all times",
                  "192"
                ],
                [
                  "14",
                  "0",
                  "i have a date on sunday with will",
                  "33"
                ],
                [
                  "15",
                  "1",
                  "xxxmobilemovieclub to use your credit click the wap link in the next txt message or click here httpwap xxxmobilemovieclubcomnqjkgighjjgcbl",
                  "138"
                ],
                [
                  "16",
                  "0",
                  "oh kim watching here",
                  "20"
                ],
                [
                  "17",
                  "0",
                  "eh u remember how spell his name yes i did he v naughty make until i v wet",
                  "74"
                ],
                [
                  "18",
                  "0",
                  "fine if thatåõs the way u feel thatåõs the way its gota b",
                  "57"
                ],
                [
                  "19",
                  "1",
                  "england v macedonia dont miss the goalsteam news txt ur national team to eg england to trywales scotland txtì¼ poboxoxwwq",
                  "121"
                ],
                [
                  "20",
                  "0",
                  "is that seriously how you spell his name",
                  "40"
                ],
                [
                  "21",
                  "0",
                  "iû÷m going to try for months ha ha only joking",
                  "47"
                ],
                [
                  "22",
                  "0",
                  "so ì pay first lar then when is da stock comin",
                  "46"
                ],
                [
                  "23",
                  "0",
                  "aft i finish my lunch then i go str down lor ard smth lor u finish ur lunch already",
                  "83"
                ],
                [
                  "24",
                  "0",
                  "ffffffffff alright no way i can meet up with you sooner",
                  "55"
                ],
                [
                  "25",
                  "0",
                  "just forced myself to eat a slice im really not hungry tho this sucks mark is getting worried he knows im sick when i turn down pizza lol",
                  "137"
                ],
                [
                  "26",
                  "0",
                  "lol your always so convincing",
                  "29"
                ],
                [
                  "27",
                  "0",
                  "did you catch the bus are you frying an egg did you make a tea are you eating your moms left over dinner do you feel my love",
                  "124"
                ],
                [
                  "28",
                  "0",
                  "im back amp were packing the car now ill let you know if theres room",
                  "68"
                ],
                [
                  "29",
                  "0",
                  "ahhh work i vaguely remember that what does it feel like lol",
                  "60"
                ],
                [
                  "30",
                  "0",
                  "wait thats still not all that clear were you not sure about me being sarcastic or that thats why x doesnt want to live with us",
                  "126"
                ],
                [
                  "31",
                  "0",
                  "yeah he got in at and was v apologetic n had fallen out and she was actin like spoilt child and he got caught up in that till but we wont go there not doing too badly cheers you",
                  "177"
                ],
                [
                  "32",
                  "0",
                  "k tell me anything about you",
                  "28"
                ],
                [
                  "33",
                  "0",
                  "for fear of fainting with the of all that housework you just did quick have a cuppa",
                  "83"
                ],
                [
                  "34",
                  "1",
                  "thanks for your subscription to ringtone uk your mobile will be charged å£month please confirm by replying yes or no if you reply no you will not be charged",
                  "156"
                ],
                [
                  "35",
                  "0",
                  "yup ok i go home look at the timings then i msg ì again xuhui going to learn on nd may too but her lesson is at am",
                  "114"
                ],
                [
                  "36",
                  "0",
                  "oops ill let you know when my roommates done",
                  "44"
                ],
                [
                  "37",
                  "0",
                  "i see the letter b on my car",
                  "28"
                ],
                [
                  "38",
                  "0",
                  "anything lor u decide",
                  "21"
                ],
                [
                  "39",
                  "0",
                  "hello hows you and how did saturday go i was just texting to see if youd decided to do anything tomo not that im trying to invite myself or anything",
                  "148"
                ],
                [
                  "40",
                  "0",
                  "pls go ahead with watts i just wanted to be sure do have a great weekend abiola",
                  "79"
                ],
                [
                  "41",
                  "0",
                  "did i forget to tell you i want you i need you i crave you but most of all i love you my sweet arabian steed mmmmmm yummy",
                  "121"
                ],
                [
                  "42",
                  "1",
                  "rodger burns msg we tried to call you re your reply to our sms for a free nokia mobile free camcorder please call now for delivery tomorrow",
                  "139"
                ],
                [
                  "43",
                  "0",
                  "who are you seeing",
                  "18"
                ],
                [
                  "44",
                  "0",
                  "great i hope you like your man well endowed i am ltgt inches",
                  "60"
                ],
                [
                  "45",
                  "0",
                  "no callsmessagesmissed calls",
                  "28"
                ],
                [
                  "46",
                  "0",
                  "didnt you get hep b immunisation in nigeria",
                  "43"
                ],
                [
                  "47",
                  "0",
                  "fair enough anything going on",
                  "29"
                ],
                [
                  "48",
                  "0",
                  "yeah hopefully if tyler cant do it i could maybe ask around a bit",
                  "65"
                ],
                [
                  "49",
                  "0",
                  "u dont know how stubborn i am i didnt even want to go to the hospital i kept telling mark im not a weak sucker hospitals are for weak suckers",
                  "141"
                ]
              ],
              "shape": {
                "columns": 3,
                "rows": 5169
              }
            },
            "text/html": [
              "<div>\n",
              "<style scoped>\n",
              "    .dataframe tbody tr th:only-of-type {\n",
              "        vertical-align: middle;\n",
              "    }\n",
              "\n",
              "    .dataframe tbody tr th {\n",
              "        vertical-align: top;\n",
              "    }\n",
              "\n",
              "    .dataframe thead th {\n",
              "        text-align: right;\n",
              "    }\n",
              "</style>\n",
              "<table border=\"1\" class=\"dataframe\">\n",
              "  <thead>\n",
              "    <tr style=\"text-align: right;\">\n",
              "      <th></th>\n",
              "      <th>label</th>\n",
              "      <th>message</th>\n",
              "      <th>message_length</th>\n",
              "    </tr>\n",
              "  </thead>\n",
              "  <tbody>\n",
              "    <tr>\n",
              "      <th>0</th>\n",
              "      <td>0</td>\n",
              "      <td>go until jurong point crazy available only in ...</td>\n",
              "      <td>102</td>\n",
              "    </tr>\n",
              "    <tr>\n",
              "      <th>1</th>\n",
              "      <td>0</td>\n",
              "      <td>ok lar joking wif u oni</td>\n",
              "      <td>23</td>\n",
              "    </tr>\n",
              "    <tr>\n",
              "      <th>2</th>\n",
              "      <td>1</td>\n",
              "      <td>free entry in a wkly comp to win fa cup final ...</td>\n",
              "      <td>121</td>\n",
              "    </tr>\n",
              "    <tr>\n",
              "      <th>3</th>\n",
              "      <td>0</td>\n",
              "      <td>u dun say so early hor u c already then say</td>\n",
              "      <td>43</td>\n",
              "    </tr>\n",
              "    <tr>\n",
              "      <th>4</th>\n",
              "      <td>0</td>\n",
              "      <td>nah i dont think he goes to usf he lives aroun...</td>\n",
              "      <td>59</td>\n",
              "    </tr>\n",
              "    <tr>\n",
              "      <th>...</th>\n",
              "      <td>...</td>\n",
              "      <td>...</td>\n",
              "      <td>...</td>\n",
              "    </tr>\n",
              "    <tr>\n",
              "      <th>5567</th>\n",
              "      <td>1</td>\n",
              "      <td>this is the nd time we have tried contact u u ...</td>\n",
              "      <td>129</td>\n",
              "    </tr>\n",
              "    <tr>\n",
              "      <th>5568</th>\n",
              "      <td>0</td>\n",
              "      <td>will ì b going to esplanade fr home</td>\n",
              "      <td>35</td>\n",
              "    </tr>\n",
              "    <tr>\n",
              "      <th>5569</th>\n",
              "      <td>0</td>\n",
              "      <td>pity was in mood for that soany other suggestions</td>\n",
              "      <td>49</td>\n",
              "    </tr>\n",
              "    <tr>\n",
              "      <th>5570</th>\n",
              "      <td>0</td>\n",
              "      <td>the guy did some bitching but i acted like id ...</td>\n",
              "      <td>124</td>\n",
              "    </tr>\n",
              "    <tr>\n",
              "      <th>5571</th>\n",
              "      <td>0</td>\n",
              "      <td>rofl its true to its name</td>\n",
              "      <td>25</td>\n",
              "    </tr>\n",
              "  </tbody>\n",
              "</table>\n",
              "<p>5169 rows × 3 columns</p>\n",
              "</div>"
            ],
            "text/plain": [
              "      label                                            message  message_length\n",
              "0         0  go until jurong point crazy available only in ...             102\n",
              "1         0                            ok lar joking wif u oni              23\n",
              "2         1  free entry in a wkly comp to win fa cup final ...             121\n",
              "3         0        u dun say so early hor u c already then say              43\n",
              "4         0  nah i dont think he goes to usf he lives aroun...              59\n",
              "...     ...                                                ...             ...\n",
              "5567      1  this is the nd time we have tried contact u u ...             129\n",
              "5568      0                will ì b going to esplanade fr home              35\n",
              "5569      0  pity was in mood for that soany other suggestions              49\n",
              "5570      0  the guy did some bitching but i acted like id ...             124\n",
              "5571      0                          rofl its true to its name              25\n",
              "\n",
              "[5169 rows x 3 columns]"
            ]
          },
          "execution_count": 94,
          "metadata": {},
          "output_type": "execute_result"
        }
      ],
      "source": [
        "df"
      ]
    },
    {
      "cell_type": "code",
      "execution_count": 95,
      "metadata": {
        "id": "kPrOjr9Vue2Z"
      },
      "outputs": [],
      "source": [
        "# Split the dataset into training and testing sets for machine learning\n",
        "\n",
        "# X_train: 80% of message text data used to train the model\n",
        "# X_test: 20% of message text data used to evaluate the model (unseen data)\n",
        "# y_train: 80% of corresponding labels (spam/ham) for training\n",
        "# y_test: 20% of corresponding labels for testing model accuracy\n",
        "X_train, X_test, y_train, y_test = train_test_split(\n",
        "    df.message,      # Features: the text messages (input data)\n",
        "    df.label,        # Target: the spam/ham labels (what we want to predict)\n",
        "    test_size=0.2    # Reserve 20% of data for testing, 80% for training\n",
        ")\n"
      ]
    },
    {
      "cell_type": "code",
      "execution_count": 65,
      "metadata": {
        "colab": {
          "base_uri": "https://localhost:8080/",
          "height": 458
        },
        "id": "K6qK4HGeuhak",
        "outputId": "4be480f4-3504-4626-f032-f9b5610e125b"
      },
      "outputs": [
        {
          "data": {
            "application/vnd.microsoft.datawrangler.viewer.v0+json": {
              "columns": [
                {
                  "name": "index",
                  "rawType": "int64",
                  "type": "integer"
                },
                {
                  "name": "message",
                  "rawType": "object",
                  "type": "string"
                }
              ],
              "ref": "9fad86b4-2f43-4de5-bce0-fed5ff31ef0f",
              "rows": [
                [
                  "3799",
                  "we tried to contact you re your reply to our offer of a video handset anytime any networks mins unlimited text camcorder reply or call now"
                ],
                [
                  "2594",
                  "thatû÷s the thing with apes u can fight to the death to keep something but the minute they have it when u let go thats it"
                ],
                [
                  "3028",
                  "what is your record for one night"
                ],
                [
                  "464",
                  "ok i am on the way to railway"
                ],
                [
                  "1267",
                  "seriously tell her those exact words right now"
                ],
                [
                  "4461",
                  "sorry i flaked last night shits seriously goin down with my roommate what you up to tonight"
                ],
                [
                  "4201",
                  "are you happy baby are you alright did you take that job i hope your fine i send you a kiss to make you smile from across the sea kiss kiss"
                ],
                [
                  "4021",
                  "u gd lor go shopping i got stuff to do u wan watch infernal affairs a not come lar"
                ],
                [
                  "4075",
                  "kick off a new season with wks free goals news to ur mobile txt ur club name to eg villa to"
                ],
                [
                  "1894",
                  "freemsg hey u i just got of these videopic fones reply wild to this txt ill send u my pics hurry up im so bored at work xxx prcvd stopstop"
                ],
                [
                  "2960",
                  "im doing da intro covers energy trends n pros n cons brief description of nuclear fusion n oso brief history of iter n jet got abt n half pages"
                ],
                [
                  "1143",
                  "and is there a way you can send shades stuff to her and she has been wonderful too"
                ],
                [
                  "734",
                  "leaving to qatar tonite in search of an opportunityall went fastpls add me in ur prayers dearrakhesh"
                ],
                [
                  "1569",
                  "i dont have that much image in class"
                ],
                [
                  "5505",
                  "what i told before i tell stupid hear after i wont tell anything to you you dad called to my brother and spoken not with me"
                ],
                [
                  "219",
                  "yeah you should i think you can use your gt atm now to register not sure but if theres anyway i can help let me know but when you do be sure you are ready"
                ],
                [
                  "1660",
                  "no just send to you bec you in temple na"
                ],
                [
                  "2653",
                  "sorry dai was thought of calling you lot of timeslil busyi will call you at noon"
                ],
                [
                  "2070",
                  "sexy singles are waiting for you text your age followed by your gender as wither m or f egf for gay men text your age followed by a g egg"
                ],
                [
                  "52",
                  "k fyi x has a ride early tomorrow morning but hes crashing at our place tonight"
                ],
                [
                  "203",
                  "goodmorning sleeping ga"
                ],
                [
                  "4207",
                  "or i go home first lar ì wait me lor i put down my stuff first"
                ],
                [
                  "1865",
                  "call to the number which is available in appointment and ask to connect the call to waheed fathima"
                ],
                [
                  "1114",
                  "no nothis is kallis home groundamla home town is durban"
                ],
                [
                  "68",
                  "did you hear about the new \\divorce barbie\\ it comes with all of kens stuff"
                ],
                [
                  "868",
                  "hello we need some posh birds and chaps to user trial prods for champneys can i put you down i need your address and dob asap ta r"
                ],
                [
                  "623",
                  "sorry no have got few things to do may be in pub later"
                ],
                [
                  "3337",
                  "k if u bored up just come to my home"
                ],
                [
                  "4107",
                  "pls send me your address sir"
                ],
                [
                  "478",
                  "k can i pick up another th when youre done"
                ],
                [
                  "359",
                  "hello just got here st andrewsboy its a long way its cold i will keep you posted"
                ],
                [
                  "3053",
                  "what happened to our yo date"
                ],
                [
                  "4584",
                  "u have a secret admirer who is looking make contact with ufind out who they rreveal who thinks ur so specialcall on stopsmsppm"
                ],
                [
                  "1520",
                  "urgent your mobile no was awarded a å£ bonus caller prize on this is our nd attempt to contact you call boxqu bt national rate"
                ],
                [
                  "2479",
                  "sppok up ur mob with a halloween collection of nokia logopic message plus a free eerie tone txt card spook to"
                ],
                [
                  "2776",
                  "send me your id and password"
                ],
                [
                  "5514",
                  "oh okie lorwe go on sat"
                ],
                [
                  "903",
                  "lovely smell on this bus and it aint tobacco"
                ],
                [
                  "3272",
                  "just finished eating got u a plate not leftovers this time"
                ],
                [
                  "5123",
                  "hi chikku send some nice msgs"
                ],
                [
                  "937",
                  "kkare you in college"
                ],
                [
                  "2032",
                  "yes im small kid and boost is the secret of my energy"
                ],
                [
                  "1022",
                  "we still on for tonight"
                ],
                [
                  "836",
                  "do you want anytime any network mins text and a new video phone for only five pounds per week call or reply for delivery tomorrow"
                ],
                [
                  "1059",
                  "eastenders tv quiz what flower does dot compare herself to d violet e tulip f lily txt d e or f to now chance win å£ cash wkentp"
                ],
                [
                  "2106",
                  "thank you i like you as well"
                ],
                [
                  "2537",
                  "thats y we haf to combine n c how lor"
                ],
                [
                  "2914",
                  "nothing lor a bit bored too then y dun u go home early sleep today"
                ],
                [
                  "3684",
                  "wake me up at ltgt am morning"
                ],
                [
                  "2586",
                  "if you dont respond imma assume youre still asleep and imma start calling n shit"
                ]
              ],
              "shape": {
                "columns": 1,
                "rows": 1034
              }
            },
            "text/plain": [
              "3799    we tried to contact you re your reply to our o...\n",
              "2594    thatû÷s the thing with apes u can fight to th...\n",
              "3028                    what is your record for one night\n",
              "464                         ok i am on the way to railway\n",
              "1267       seriously tell her those exact words right now\n",
              "                              ...                        \n",
              "5039    natalie f is inviting you to be her friend rep...\n",
              "3721                      im in a movie collect car oredi\n",
              "2836                                 s reach home call me\n",
              "3671    came to look at the flat seems ok in his s is ...\n",
              "1370     hope you are feeling great pls fill me in abiola\n",
              "Name: message, Length: 1034, dtype: object"
            ]
          },
          "execution_count": 65,
          "metadata": {},
          "output_type": "execute_result"
        }
      ],
      "source": [
        "X_test"
      ]
    },
    {
      "cell_type": "markdown",
      "metadata": {},
      "source": [
        "\n",
        "### Feature Engineering: Text Vectorization.\n",
        "Converting text to numerical features enables machine learning algorithms to process natural language."
      ]
    },
    {
      "cell_type": "code",
      "execution_count": 96,
      "metadata": {
        "colab": {
          "base_uri": "https://localhost:8080/"
        },
        "id": "kKGY4OJ5um4c",
        "outputId": "5411a1cf-1045-48d4-a525-72767aee31fb"
      },
      "outputs": [
        {
          "data": {
            "text/plain": [
              "array([[0, 0, 0, ..., 0, 0, 0],\n",
              "       [0, 0, 0, ..., 0, 0, 0],\n",
              "       [0, 0, 0, ..., 0, 0, 0]], dtype=int64)"
            ]
          },
          "execution_count": 96,
          "metadata": {},
          "output_type": "execute_result"
        }
      ],
      "source": [
        " #Import CountVectorizer for converting text to numerical features\n",
        "from sklearn.feature_extraction.text import CountVectorizer\n",
        "\n",
        "# Create a CountVectorizer instance\n",
        "# This will convert text documents into a matrix of token counts\n",
        "# By default, it removes stop words and converts to lowercase\n",
        "V = CountVectorizer()\n",
        "\n",
        "# Fit the vectorizer on training data and transform it to numerical format\n",
        "# fit_transform() performs two operations:\n",
        "# 1. fit(): learns the vocabulary from X_train (builds word dictionary)\n",
        "# 2. transform(): converts each message into a vector of word counts\n",
        "# .values converts pandas Series to numpy array (required by sklearn)\n",
        "X_train_count = V.fit_transform(X_train.values)\n",
        "\n",
        "# Display the first 3 rows of the count matrix as a dense array\n",
        "# toarray() converts the sparse matrix to a regular numpy array for viewing\n",
        "# Each row represents one message, each column represents one unique word\n",
        "# Numbers show how many times each word appears in each message\n",
        "X_train_count.toarray()[:3]"
      ]
    },
    {
      "cell_type": "markdown",
      "metadata": {},
      "source": [
        "# Importing MultinomialNB (Multinomial Naive Bayes) classifier\n",
        "This algorithm is particularly well-suited for text classification tasks\n",
        "It works well with discrete features like word counts from CountVectorizer\n",
        "MultinomialNB is ideal for spam detection because:\n",
        " - It handles high-dimensional sparse data (many words, most are zeros)\n",
        " - It's fast and efficient for text classification\n",
        " - It performs well even with relatively small training datasets\n",
        " - It naturally handles the \"bag of words\" approach"
      ]
    },
    {
      "cell_type": "code",
      "execution_count": 98,
      "metadata": {
        "colab": {
          "base_uri": "https://localhost:8080/",
          "height": 80
        },
        "id": "KHGnQJ0_uvNq",
        "outputId": "e3406584-67c1-489a-c64a-e4f98117c28b"
      },
      "outputs": [
        {
          "name": "stdout",
          "output_type": "stream",
          "text": [
            "\n",
            "Model is now ready for predictions!\n",
            "The model learned probability distributions for 7489 words\n"
          ]
        }
      ],
      "source": [
        "\n",
        "from sklearn.naive_bayes import MultinomialNB\n",
        "\n",
        "# Create an instance of the Multinomial Naive Bayes classifier\n",
        "\n",
        "model = MultinomialNB()\n",
        "\n",
        "# Train the model using the training data\n",
        "# X_train_count: numerical word count vectors (features)\n",
        "# y_train: corresponding spam/ham labels (target values)\n",
        "# The model learns probability distributions for each word given spam vs ham\n",
        "# It calculates P(word|spam) and P(word|ham) for all words in vocabulary\n",
        "model.fit(X_train_count, y_train)\n",
        "\n",
        "\n",
        "\n",
        "#  Show some model parameters\n",
        "print(f\"\\nModel is now ready for predictions!\")\n",
        "print(f\"The model learned probability distributions for {len(model.feature_log_prob_[0])} words\")"
      ]
    },
    {
      "cell_type": "markdown",
      "metadata": {},
      "source": [
        "## Testing the model"
      ]
    },
    {
      "cell_type": "code",
      "execution_count": 99,
      "metadata": {
        "colab": {
          "base_uri": "https://localhost:8080/"
        },
        "id": "h3Q_NdinuzTm",
        "outputId": "78af1f36-984b-4b0b-96db-0b7db45a758a"
      },
      "outputs": [
        {
          "data": {
            "text/plain": [
              "array([1, 0], dtype=int64)"
            ]
          },
          "execution_count": 99,
          "metadata": {},
          "output_type": "execute_result"
        }
      ],
      "source": [
        "emails = [\n",
        "    \"Congratulations! You've won a $1,000 gift card. Click here to claim your prize now!\",  # Spam\n",
        "    \"Hello John, I hope you're doing well. Let's schedule a meeting for next week.\"  # Not spam\n",
        "]\n",
        "\n",
        "emails_count = V.transform(emails)\n",
        "model.predict(emails_count)\n"
      ]
    },
    {
      "cell_type": "markdown",
      "metadata": {},
      "source": [
        "# Checking the score"
      ]
    },
    {
      "cell_type": "markdown",
      "metadata": {},
      "source": [
        "`IMPORTANT`: Use transform() NOT fit_transform() here\n",
        " We only transform using the vocabulary learned from training data\n",
        " This ensures the model sees the same feature space it was trained on"
      ]
    },
    {
      "cell_type": "code",
      "execution_count": null,
      "metadata": {
        "colab": {
          "base_uri": "https://localhost:8080/"
        },
        "id": "MtoTVCMSu5FW",
        "outputId": "cd14b451-5edb-4292-a812-270a025b5329"
      },
      "outputs": [
        {
          "name": "stdout",
          "output_type": "stream",
          "text": [
            "Model Evaluation Results:\n",
            "========================================\n",
            "Test Accuracy: 0.9807 (98.07%)\n",
            "\n",
            "Detailed Classification Report:\n",
            "              precision    recall  f1-score   support\n",
            "\n",
            "         Ham       0.98      0.99      0.99       894\n",
            "        Spam       0.95      0.90      0.93       140\n",
            "\n",
            "    accuracy                           0.98      1034\n",
            "   macro avg       0.97      0.95      0.96      1034\n",
            "weighted avg       0.98      0.98      0.98      1034\n",
            "\n",
            "\n",
            "Confusion Matrix:\n",
            "                Predicted\n",
            "              Ham   Spam\n",
            "Actual  Ham   888     6\n",
            "       Spam    14   126\n",
            "\n",
            "Interpretation:\n",
            "• True Negatives (correctly identified Ham): 888\n",
            "• False Positives (Ham classified as Spam): 6\n",
            "• False Negatives (Spam classified as Ham): 14\n",
            "• True Positives (correctly identified Spam): 126\n",
            "\n",
            "Summary:\n",
            "• Total test messages: 1034\n",
            "• Correctly classified: 1014\n",
            "• Incorrectly classified: 20\n",
            "• Overall accuracy: 0.9807\n"
          ]
        }
      ],
      "source": [
        "# Transform the test messages into numerical count vectors using the same vectorizer\n",
        "\n",
        "X_test_count = V.transform(X_test)\n",
        "\n",
        "# Evaluate the model's performance on the test set\n",
        "# score() returns the accuracy: (correct predictions / total predictions)\n",
        "# Uses X_test_count (features) and y_test (true labels) to calculate accuracy\n",
        "# This gives us an unbiased estimate of how well the model performs on unseen data\n",
        "accuracy = model.score(X_test_count, y_test)\n",
        "\n",
        "# Display the results\n",
        "print(\"Model Evaluation Results:\")\n",
        "print(\"=\" * 40)\n",
        "print(f\"Test Accuracy: {accuracy:.4f} ({accuracy*100:.2f}%)\")\n",
        "\n",
        "# Optional: Additional evaluation metrics for better understanding\n",
        "from sklearn.metrics import classification_report, confusion_matrix\n",
        "\n",
        "# Get predictions for more detailed analysis\n",
        "y_pred = model.predict(X_test_count)\n",
        "\n",
        "print(f\"\\nDetailed Classification Report:\")\n",
        "print(classification_report(y_test, y_pred, target_names=['Ham', 'Spam']))\n",
        "\n",
        "print(f\"\\nConfusion Matrix:\")\n",
        "cm = confusion_matrix(y_test, y_pred)\n",
        "print(f\"                Predicted\")\n",
        "print(f\"              Ham   Spam\")\n",
        "print(f\"Actual  Ham   {cm[0,0]:3d}   {cm[0,1]:3d}\")\n",
        "print(f\"       Spam   {cm[1,0]:3d}   {cm[1,1]:3d}\")\n",
        "\n",
        "# Explain what the results mean\n",
        "print(f\"\\nInterpretation:\")\n",
        "print(f\"• True Negatives (correctly identified Ham): {cm[0,0]}\")\n",
        "print(f\"• False Positives (Ham classified as Spam): {cm[0,1]}\")\n",
        "print(f\"• False Negatives (Spam classified as Ham): {cm[1,0]}\")\n",
        "print(f\"• True Positives (correctly identified Spam): {cm[1,1]}\")\n",
        "\n",
        "# Calculate additional metrics\n",
        "total_predictions = len(y_test)\n",
        "correct_predictions = cm[0,0] + cm[1,1]\n",
        "print(f\"\\nSummary:\")\n",
        "print(f\"• Total test messages: {total_predictions}\")\n",
        "print(f\"• Correctly classified: {correct_predictions}\")\n",
        "print(f\"• Incorrectly classified: {total_predictions - correct_predictions}\")\n",
        "print(f\"• Overall accuracy: {correct_predictions/total_predictions:.4f}\")"
      ]
    },
    {
      "cell_type": "markdown",
      "metadata": {},
      "source": [
        "# Logistic Regression\n",
        " This is another popular algorithm for text classification.\n",
        "It is good for small datasets and binary classification\n",
        " It's often more interpretable than Naive Bayes and can handle linear relationships well"
      ]
    },
    {
      "cell_type": "code",
      "execution_count": 101,
      "metadata": {
        "colab": {
          "base_uri": "https://localhost:8080/"
        },
        "id": "Ekj7ysPau9Gn",
        "outputId": "e5938dad-7ec1-4a23-e055-6d7ae1e79d1a"
      },
      "outputs": [
        {
          "name": "stdout",
          "output_type": "stream",
          "text": [
            "Logistic Regression Model Performance:\n",
            "Accuracy: 0.9797 (97.97%)\n",
            "Classification Report:\n",
            "              precision    recall  f1-score   support\n",
            "\n",
            "           0       0.98      1.00      0.99       894\n",
            "           1       0.99      0.86      0.92       140\n",
            "\n",
            "    accuracy                           0.98      1034\n",
            "   macro avg       0.98      0.93      0.95      1034\n",
            "weighted avg       0.98      0.98      0.98      1034\n",
            "\n"
          ]
        }
      ],
      "source": [
        "# Import necessary libraries for logistic regression and evaluation metrics\n",
        "from sklearn.linear_model import LogisticRegression\n",
        "from sklearn.metrics import accuracy_score, classification_report\n",
        "\n",
        "# Build a Logistic Regression model\n",
        "\n",
        "log_reg_model = LogisticRegression(solver='liblinear')\n",
        "\n",
        "# Train the model on the same training data used for Naive Bayes\n",
        "# X_train_count: word count vectors from CountVectorizer\n",
        "# y_train: corresponding spam/ham labels\n",
        "# Logistic regression learns weights for each word feature\n",
        "log_reg_model.fit(X_train_count, y_train)\n",
        "\n",
        "# Make predictions on the test set\n",
        "# Uses the trained model to classify test messages as spam (1) or ham (0)\n",
        "# Returns an array of predicted labels for each test message\n",
        "y_pred_log_reg = log_reg_model.predict(X_test_count)\n",
        "\n",
        "# Evaluate the model performance\n",
        "# Calculate accuracy: percentage of correctly classified messages\n",
        "accuracy_log_reg = accuracy_score(y_test, y_pred_log_reg)\n",
        "\n",
        "# Generate detailed classification report showing precision, recall, and F1-score\n",
        "# This provides more insight than just accuracy alone\n",
        "report_log_reg = classification_report(y_test, y_pred_log_reg)\n",
        "\n",
        "# Display the results\n",
        "print(\"Logistic Regression Model Performance:\")\n",
        "print(f\"Accuracy: {accuracy_log_reg:.4f} ({accuracy_log_reg*100:.2f}%)\")\n",
        "print(\"Classification Report:\")\n",
        "print(report_log_reg)\n",
        "\n"
      ]
    },
    {
      "cell_type": "code",
      "execution_count": 72,
      "metadata": {
        "colab": {
          "base_uri": "https://localhost:8080/"
        },
        "id": "5wrxbh-4xYEa",
        "outputId": "d41e9ac1-f41a-4398-a585-b131ee9860c4"
      },
      "outputs": [
        {
          "name": "stdout",
          "output_type": "stream",
          "text": [
            "Important features for Multinomial Naive Bayes Model:\n",
            "\n",
            "Top 10 important features for Spam:\n",
            "claim: 5.4545\n",
            "prize: 5.2440\n",
            "won: 4.9137\n",
            "guaranteed: 4.6114\n",
            "tone: 4.5816\n",
            "ppm: 4.5191\n",
            "awarded: 4.3809\n",
            "tcs: 4.1761\n",
            "entry: 4.1296\n",
            "weekly: 4.1296\n",
            "\n",
            "Top 10 important features for Ham:\n",
            "ltgt: -4.2856\n",
            "ill: -4.0209\n",
            "he: -3.8778\n",
            "lor: -3.7189\n",
            "she: -3.3693\n",
            "oh: -3.3338\n",
            "too: -3.3216\n",
            "later: -3.3094\n",
            "thats: -3.2587\n",
            "ask: -3.2190\n",
            "\n",
            "Important features for Logistic Regression Model:\n",
            "\n",
            "Top 10 important features for Spam:\n",
            "txt: 2.2671\n",
            "call: 1.8700\n",
            "text: 1.6624\n",
            "stop: 1.5521\n",
            "reply: 1.4501\n",
            "chat: 1.4063\n",
            "claim: 1.3885\n",
            "real: 1.3833\n",
            "won: 1.3265\n",
            "new: 1.2747\n",
            "\n",
            "Top 10 important features for Ham:\n",
            "ltgt: -1.3903\n",
            "my: -1.0566\n",
            "him: -0.9405\n",
            "me: -0.9093\n",
            "ill: -0.8193\n",
            "that: -0.7882\n",
            "sorry: -0.7497\n",
            "he: -0.7329\n",
            "ok: -0.7172\n",
            "am: -0.7080\n"
          ]
        }
      ],
      "source": [
        "# Function to display most important features (words) for a model\n",
        "def show_most_important_features(vectorizer, model, n=10):\n",
        "    feature_names = vectorizer.get_feature_names_out()\n",
        "    if isinstance(model, MultinomialNB):\n",
        "        # For Naive Bayes, the feature importance is related to the log probability of features given the class\n",
        "        # We can look at the difference in log probabilities between the spam (1) and ham (0) classes\n",
        "        log_prob = model.feature_log_prob_\n",
        "        # Calculate the difference in log probabilities\n",
        "        feature_importance = log_prob[1, :] - log_prob[0, :]\n",
        "    elif isinstance(model, LogisticRegression):\n",
        "        # For Logistic Regression, the coefficients represent feature importance\n",
        "        feature_importance = model.coef_[0]\n",
        "    else:\n",
        "        print(\"Unsupported model type for feature importance visualization.\")\n",
        "        return\n",
        "\n",
        "    # Get the indices of the most important features (both positive and negative)\n",
        "    sorted_indices = np.argsort(feature_importance)\n",
        "\n",
        "    print(f\"\\nTop {n} important features for Spam:\")\n",
        "    for i in sorted_indices[::-1][:n]:\n",
        "        print(f\"{feature_names[i]}: {feature_importance[i]:.4f}\")\n",
        "\n",
        "    print(f\"\\nTop {n} important features for Ham:\")\n",
        "    for i in sorted_indices[:n]:\n",
        "        print(f\"{feature_names[i]}: {feature_importance[i]:.4f}\")\n",
        "\n",
        "# Show important features for the Naive Bayes model\n",
        "print(\"Important features for Multinomial Naive Bayes Model:\")\n",
        "show_most_important_features(V, model)\n",
        "\n",
        "# Show important features for the Logistic Regression model\n",
        "print(\"\\nImportant features for Logistic Regression Model:\")\n",
        "show_most_important_features(V, log_reg_model)"
      ]
    },
    {
      "cell_type": "markdown",
      "metadata": {},
      "source": [
        "### Hyperparameter Tuning.\n",
        "Systematic optimization ensures maximum model performance for better spam detection accuracy."
      ]
    },
    {
      "cell_type": "code",
      "execution_count": 102,
      "metadata": {
        "id": "1bWK6Of7y41V"
      },
      "outputs": [
        {
          "name": "stdout",
          "output_type": "stream",
          "text": [
            "Hyperparameter Tuning Setup:\n",
            "==================================================\n",
            "\n",
            "Naive Bayes - Alpha Parameter:\n",
            "• Controls smoothing for unseen words\n",
            "• Range: 0.1 (minimal smoothing) to 2.0 (heavy smoothing)\n",
            "• Default: 1.0\n",
            "• Values to test: [0.1, 0.5, 1.0, 2.0]\n",
            "\n",
            "Logistic Regression - C Parameter:\n",
            "• Controls regularization strength (inverse)\n",
            "• Range: 0.01 (strong regularization) to 100 (weak regularization)\n",
            "• Default: 1.0\n",
            "• Values to test: [0.01, 0.1, 1, 10, 100]\n",
            "\n",
            "Total combinations to test:\n",
            "• Naive Bayes: 4 parameter values\n",
            "• Logistic Regression: 5 parameter values\n"
          ]
        }
      ],
      "source": [
        "from sklearn.model_selection import GridSearchCV\n",
        "from sklearn.pipeline import Pipeline\n",
        "\n",
        "# Define parameter grids for hyperparameter tuning\n",
        "# GridSearchCV will test all combinations of these parameters to find the best ones\n",
        "\n",
        "# Naive Bayes parameter grid\n",
        "nb_params = {\n",
        "    # 'nb__alpha': Smoothing parameter (Laplace/additive smoothing) for Naive Bayes\n",
        "    # Controls how much smoothing is applied to handle unseen words\n",
        "    # Lower values (0.1): Less smoothing, more sensitive to seen words\n",
        "    # Higher values (2.0): More smoothing, less sensitive to unseen words\n",
        "    # Default is 1.0, but optimal value varies by dataset\n",
        "    'nb__alpha': [0.1, 0.5, 1.0, 2.0]\n",
        "}\n",
        "\n",
        "# Logistic Regression parameter grid\n",
        "lr_params = {\n",
        "    # 'lr__C': Inverse regularization strength (1/lambda)\n",
        "    # Controls how much the model should avoid overfitting\n",
        "    # Lower values (0.01): Strong regularization, simpler model, may underfit\n",
        "    # Higher values (100): Weak regularization, complex model, may overfit\n",
        "    # C=1 is the default, but optimal value depends on your data\n",
        "    'lr__C': [0.01, 0.1, 1, 10, 100]\n",
        "}\n",
        "\n",
        "# Optional: Display what these parameters mean\n",
        "print(\"Hyperparameter Tuning Setup:\")\n",
        "print(\"=\" * 50)\n",
        "\n",
        "print(\"\\nNaive Bayes - Alpha Parameter:\")\n",
        "print(\"• Controls smoothing for unseen words\")\n",
        "print(\"• Range: 0.1 (minimal smoothing) to 2.0 (heavy smoothing)\")\n",
        "print(\"• Default: 1.0\")\n",
        "print(f\"• Values to test: {nb_params['nb__alpha']}\")\n",
        "\n",
        "print(\"\\nLogistic Regression - C Parameter:\")\n",
        "print(\"• Controls regularization strength (inverse)\")\n",
        "print(\"• Range: 0.01 (strong regularization) to 100 (weak regularization)\")\n",
        "print(\"• Default: 1.0\")\n",
        "print(f\"• Values to test: {lr_params['lr__C']}\")\n",
        "\n",
        "print(f\"\\nTotal combinations to test:\")\n",
        "print(f\"• Naive Bayes: {len(nb_params['nb__alpha'])} parameter values\")\n",
        "print(f\"• Logistic Regression: {len(lr_params['lr__C'])} parameter values\")\n",
        "\n"
      ]
    },
    {
      "cell_type": "markdown",
      "metadata": {},
      "source": [
        "\n",
        "# Pipeline for Naive Bayes model\n",
        "A pipeline ensures that data preprocessing and model training happen in the correct sequence\n",
        "This prevents data leakage and makes the code more maintainable and reproducible"
      ]
    },
    {
      "cell_type": "code",
      "execution_count": null,
      "metadata": {
        "id": "EfzN1qUd0iDf"
      },
      "outputs": [],
      "source": [
        "# Create machine learning pipelines that chain preprocessing and modeling steps\n",
        "\n",
        "nb_pipeline = Pipeline([\n",
        "    # Step 1: 'vectorizer' - Convert text to numerical features\n",
        "    # CountVectorizer transforms raw text into word count vectors\n",
        "    # stop_words='english' removes common English words like 'the', 'and', 'is'\n",
        "    ('vectorizer', CountVectorizer(stop_words='english')),\n",
        "    \n",
        "    # Step 2: 'nb' - Apply Naive Bayes classification\n",
        "    # MultinomialNB is well-suited for discrete features like word counts\n",
        "    # The name 'nb' will be used for hyperparameter specification (nb__alpha)\n",
        "    ('nb', MultinomialNB())\n",
        "])\n",
        "\n",
        "# Pipeline for Logistic Regression model\n",
        "# Same preprocessing step, but different classifier\n",
        "lr_pipeline = Pipeline([\n",
        "    # Step 1: 'vectorizer' - Convert text to numerical features\n",
        "    # Identical preprocessing ensures fair comparison between models\n",
        "    ('vectorizer', CountVectorizer(stop_words='english')),\n",
        "    \n",
        "    # Step 2: 'lr' - Apply Logistic Regression classification\n",
        "    # solver='liblinear' is efficient for small-to-medium datasets with binary classification\n",
        "    # The name 'lr' will be used for hyperparameter specification (lr__C)\n",
        "    ('lr', LogisticRegression(solver='liblinear'))\n",
        "])\n"
      ]
    },
    {
      "cell_type": "code",
      "execution_count": 105,
      "metadata": {
        "colab": {
          "base_uri": "https://localhost:8080/"
        },
        "id": "HYqJjX-N0pgw",
        "outputId": "86a79cf1-3c5b-4b31-8137-f0351ffd8c47"
      },
      "outputs": [
        {
          "name": "stdout",
          "output_type": "stream",
          "text": [
            "Grid Search results for Multinomial Naive Bayes:\n",
            "=======================================================\n",
            "Best parameters: {'nb__alpha': 1.0}\n",
            "Best cross-validation accuracy: 0.9787 (97.87%)\n"
          ]
        }
      ],
      "source": [
        "# Perform Grid Search for Naive Bayes hyperparameter optimization\n",
        "\n",
        "# Create GridSearchCV object to systematically test different parameter combinations\n",
        "grid_search_nb = GridSearchCV(\n",
        "    nb_pipeline,           # The pipeline to optimize (CountVectorizer + MultinomialNB)\n",
        "    nb_params,             # Parameter grid: {'nb__alpha': [0.1, 0.5, 1.0, 2.0]}\n",
        "    cv=5,                  # 5-fold cross-validation: split training data into 5 parts\n",
        "                          # Train on 4 parts, validate on 1 part, repeat 5 times\n",
        "    scoring='accuracy',    # Evaluation metric: percentage of correctly classified samples\n",
        "    n_jobs=-1             # Use all available CPU cores for parallel processing\n",
        ")\n",
        "\n",
        "# Fit the grid search on training data\n",
        "# This will test all parameter combinations using cross-validation\n",
        "# Process: For each alpha value → Train on 4/5 of X_train → Validate on 1/5 of X_train\n",
        "# The best parameter is the one with highest average accuracy across all 5 folds\n",
        "grid_search_nb.fit(X_train, y_train)\n",
        "\n",
        "# Display the results of hyperparameter optimization\n",
        "print(\"Grid Search results for Multinomial Naive Bayes:\")\n",
        "print(\"=\" * 55)\n",
        "\n",
        "# Best parameters found during grid search\n",
        "# This is the alpha value that gave the highest cross-validation accuracy\n",
        "print(\"Best parameters:\", grid_search_nb.best_params_)\n",
        "\n",
        "# Best cross-validation accuracy achieved\n",
        "# This is the average accuracy across all 5 folds using the best parameters\n",
        "# Note: This is NOT the final test accuracy - it's validation accuracy\n",
        "print(\"Best cross-validation accuracy:\", f\"{grid_search_nb.best_score_:.4f} ({grid_search_nb.best_score_*100:.2f}%)\")"
      ]
    },
    {
      "cell_type": "markdown",
      "metadata": {},
      "source": [
        "## Model Evaluation & Comparison.\n",
        "\n",
        "### Model Performance Assessment.\n"
      ]
    },
    {
      "cell_type": "code",
      "execution_count": 106,
      "metadata": {
        "colab": {
          "base_uri": "https://localhost:8080/"
        },
        "id": "EXhJofiF0z8G",
        "outputId": "ad3aa93b-897f-4c46-ae6f-7b492a5a89bf"
      },
      "outputs": [
        {
          "name": "stdout",
          "output_type": "stream",
          "text": [
            "\n",
            "Test set performance for best Naive Bayes model:\n",
            "============================================================\n",
            "              precision    recall  f1-score   support\n",
            "\n",
            "         Ham       0.99      0.99      0.99       894\n",
            "        Spam       0.96      0.92      0.94       140\n",
            "\n",
            "    accuracy                           0.98      1034\n",
            "   macro avg       0.97      0.96      0.96      1034\n",
            "weighted avg       0.98      0.98      0.98      1034\n",
            "\n",
            "Test Accuracy: 0.9836 (98.36%)\n"
          ]
        }
      ],
      "source": [
        "# Evaluate the best Naive Bayes model on the test set\n",
        "\n",
        "# Extract the best model found during grid search\n",
        "# best_estimator_ contains the complete optimized pipeline:\n",
        "# CountVectorizer + MultinomialNB with the best alpha parameter\n",
        "# This model was trained on the entire training set using the optimal parameters\n",
        "best_nb_model = grid_search_nb.best_estimator_\n",
        "\n",
        "# Make predictions on the test set using the optimized model\n",
        "# The pipeline automatically handles text vectorization and classification\n",
        "# X_test contains raw text messages, pipeline converts them to features internally\n",
        "# Returns array of predictions: 0 for ham, 1 for spam\n",
        "y_pred_nb_gs = best_nb_model.predict(X_test)\n",
        "\n",
        "# Display comprehensive performance metrics on the test set\n",
        "print(\"\\nTest set performance for best Naive Bayes model:\")\n",
        "print(\"=\" * 60)\n",
        "\n",
        "# Classification report provides detailed metrics for each class\n",
        "# Precision: Of predicted spam/ham, how many were actually spam/ham?\n",
        "# Recall: Of actual spam/ham messages, how many were correctly identified?\n",
        "# F1-score: Harmonic mean of precision and recall (balanced metric)\n",
        "# Support: Number of actual instances of each class in test set\n",
        "print(classification_report(y_test, y_pred_nb_gs, target_names=['Ham', 'Spam']))\n",
        "\n",
        "# Overall accuracy: percentage of correctly classified messages\n",
        "# This is the final, unbiased estimate of model performance\n",
        "test_accuracy = accuracy_score(y_test, y_pred_nb_gs)\n",
        "print(\"Test Accuracy:\", f\"{test_accuracy:.4f} ({test_accuracy*100:.2f}%)\")"
      ]
    },
    {
      "cell_type": "code",
      "execution_count": 107,
      "metadata": {
        "colab": {
          "base_uri": "https://localhost:8080/"
        },
        "id": "uxLOiBv21xsg",
        "outputId": "85c0d133-5a9e-46ab-b016-54c9734662f8"
      },
      "outputs": [
        {
          "name": "stdout",
          "output_type": "stream",
          "text": [
            "\n",
            "Grid Search results for Logistic Regression:\n",
            "=======================================================\n",
            "Best parameters: {'lr__C': 10}\n",
            "Best cross-validation accuracy: 0.9773 (97.73%)\n"
          ]
        }
      ],
      "source": [
        "# Perform Grid Search for Logistic Regression hyperparameter optimization\n",
        "\n",
        "# Create GridSearchCV object to find optimal regularization parameter\n",
        "grid_search_lr = GridSearchCV(\n",
        "    lr_pipeline,           # The pipeline to optimize (CountVectorizer + LogisticRegression)\n",
        "    lr_params,             # Parameter grid: {'lr__C': [0.01, 0.1, 1, 10, 100]}\n",
        "    cv=5,                  # 5-fold cross-validation: same methodology as Naive Bayes\n",
        "                          # Ensures fair comparison between algorithms\n",
        "    scoring='accuracy',    # Same evaluation metric for consistent comparison\n",
        "    n_jobs=-1             # Parallel processing to speed up computation\n",
        ")\n",
        "\n",
        "# Fit the grid search on training data\n",
        "# This tests all C values (regularization strengths) using cross-validation\n",
        "# Process: For each C value → Train on 4/5 of X_train → Validate on 1/5 of X_train\n",
        "# The best C is the one with highest average accuracy across all 5 folds\n",
        "grid_search_lr.fit(X_train, y_train)\n",
        "\n",
        "# Display the optimization results\n",
        "print(\"\\nGrid Search results for Logistic Regression:\")\n",
        "print(\"=\" * 55)\n",
        "\n",
        "# Best regularization parameter found during grid search\n",
        "# This C value achieved the highest cross-validation accuracy\n",
        "# Remember: C is inverse regularization (higher C = less regularization)\n",
        "print(\"Best parameters:\", grid_search_lr.best_params_)\n",
        "\n",
        "# Best cross-validation accuracy achieved with optimal C\n",
        "# This is the average validation accuracy across all 5 folds\n",
        "print(\"Best cross-validation accuracy:\", f\"{grid_search_lr.best_score_:.4f} ({grid_search_lr.best_score_*100:.2f}%)\")"
      ]
    },
    {
      "cell_type": "code",
      "execution_count": 108,
      "metadata": {
        "colab": {
          "base_uri": "https://localhost:8080/"
        },
        "id": "5jbywCDX19IA",
        "outputId": "8b097e6a-eea6-4ea0-c99d-15580421e6c7"
      },
      "outputs": [
        {
          "name": "stdout",
          "output_type": "stream",
          "text": [
            "\n",
            "Test set performance for best Logistic Regression model:\n",
            "=================================================================\n",
            "              precision    recall  f1-score   support\n",
            "\n",
            "         Ham       0.97      1.00      0.99       894\n",
            "        Spam       0.99      0.84      0.91       140\n",
            "\n",
            "    accuracy                           0.98      1034\n",
            "   macro avg       0.98      0.92      0.95      1034\n",
            "weighted avg       0.98      0.98      0.98      1034\n",
            "\n",
            "Test Accuracy: 0.9768 (97.68%)\n"
          ]
        }
      ],
      "source": [
        "# Evaluate the best Logistic Regression model on the test set\n",
        "\n",
        "# Extract the optimized Logistic Regression model from grid search\n",
        "# best_estimator_ contains the complete pipeline with optimal C parameter:\n",
        "# CountVectorizer + LogisticRegression(C=best_value, solver='liblinear')\n",
        "# This model was retrained on the entire training set using the best parameters\n",
        "best_lr_model = grid_search_lr.best_estimator_\n",
        "\n",
        "# Generate predictions on the test set using the optimized model\n",
        "# The pipeline automatically vectorizes raw text and applies the trained classifier\n",
        "# X_test contains original text messages, no manual preprocessing needed\n",
        "# Returns predictions: 0 for ham (legitimate), 1 for spam\n",
        "y_pred_lr_gs = best_lr_model.predict(X_test)\n",
        "\n",
        "# Display comprehensive test set performance metrics\n",
        "print(\"\\nTest set performance for best Logistic Regression model:\")\n",
        "print(\"=\" * 65)\n",
        "\n",
        "# Detailed classification report showing per-class performance\n",
        "# Precision: Of messages classified as spam/ham, what % were actually spam/ham?\n",
        "# Recall: Of actual spam/ham messages, what % were correctly identified?\n",
        "# F1-score: Harmonic mean balancing precision and recall\n",
        "# Support: Number of actual instances of each class in the test set\n",
        "print(classification_report(y_test, y_pred_lr_gs, target_names=['Ham', 'Spam']))\n",
        "\n",
        "# Overall test accuracy - the final performance metric\n",
        "# This represents how the model will perform on new, unseen emails in production\n",
        "lr_test_accuracy = accuracy_score(y_test, y_pred_lr_gs)\n",
        "print(\"Test Accuracy:\", f\"{lr_test_accuracy:.4f} ({lr_test_accuracy*100:.2f}%)\")"
      ]
    },
    {
      "cell_type": "markdown",
      "metadata": {},
      "source": [
        "\n",
        "### Final Model Selection"
      ]
    },
    {
      "cell_type": "code",
      "execution_count": 109,
      "metadata": {
        "colab": {
          "base_uri": "https://localhost:8080/"
        },
        "id": "ylKI6QFa2MAS",
        "outputId": "dad10a63-fb4c-4f95-a3d1-0b12716d3146"
      },
      "outputs": [
        {
          "name": "stdout",
          "output_type": "stream",
          "text": [
            "\n",
            "Model Comparison and Choice\n",
            "Best CV Accuracy (Naive Bayes): 0.9787\n",
            "Test Accuracy (Naive Bayes): 0.9836\n",
            "Best CV Accuracy (Logistic Regression): 0.9773\n",
            "Test Accuracy (Logistic Regression): 0.9768\n",
            "\n",
            "Factors to consider when choosing a model:\n",
            "- Accuracy: Overall correct predictions.\n",
            "- Precision: Ability of the model to correctly identify positive instances (spam) without misclassifying negative instances (ham). Crucial for spam detection to minimize false positives.\n",
            "- Recall (Sensitivity): Ability of the model to find all positive instances (spam). Important to catch as many spam messages as possible.\n",
            "- F1-score: Harmonic mean of precision and recall, providing a balanced measure.\n",
            "- Interpretability: How easy it is to understand why the model made a certain prediction. Naive Bayes is generally more interpretable than Logistic Regression.\n",
            "- Training time and complexity.\n",
            "\n",
            "Based on test set accuracy, Naive Bayes performs slightly better.\n",
            "\n",
            "Recommendation: The Multinomial Naive Bayes model is generally preferred for this task.\n",
            "\n",
            "Reasoning for choosing Naive Bayes:\n",
            "- Often works well for text classification tasks, especially with discrete features like word counts.\n",
            "- Computationally efficient and scales well with the number of features.\n",
            "- Less prone to overfitting compared to Logistic Regression, especially with limited data.\n",
            "- More interpretable, the feature importance reflects how likely words are to appear in spam vs. ham.\n",
            "\n",
            "Final Check on Test Set Performance:\n",
            "Multinomial Naive Bayes:\n",
            "              precision    recall  f1-score   support\n",
            "\n",
            "           0       0.99      0.99      0.99       894\n",
            "           1       0.96      0.92      0.94       140\n",
            "\n",
            "    accuracy                           0.98      1034\n",
            "   macro avg       0.97      0.96      0.96      1034\n",
            "weighted avg       0.98      0.98      0.98      1034\n",
            "\n",
            "Logistic Regression:\n",
            "              precision    recall  f1-score   support\n",
            "\n",
            "           0       0.97      1.00      0.99       894\n",
            "           1       0.99      0.84      0.91       140\n",
            "\n",
            "    accuracy                           0.98      1034\n",
            "   macro avg       0.98      0.92      0.95      1034\n",
            "weighted avg       0.98      0.98      0.98      1034\n",
            "\n"
          ]
        }
      ],
      "source": [
        "#Model Choice and Explanation\n",
        "print(\"\\nModel Comparison and Choice\")\n",
        "\n",
        "# Compare the best cross-validation scores and test set accuracies\n",
        "print(f\"Best CV Accuracy (Naive Bayes): {grid_search_nb.best_score_:.4f}\")\n",
        "print(f\"Test Accuracy (Naive Bayes): {accuracy_score(y_test, y_pred_nb_gs):.4f}\")\n",
        "print(f\"Best CV Accuracy (Logistic Regression): {grid_search_lr.best_score_:.4f}\")\n",
        "print(f\"Test Accuracy (Logistic Regression): {accuracy_score(y_test, y_pred_lr_gs):.4f}\")\n",
        "\n",
        "print(\"\\nFactors to consider when choosing a model:\")\n",
        "print(\"- Accuracy: Overall correct predictions.\")\n",
        "print(\"- Precision: Ability of the model to correctly identify positive instances (spam) without misclassifying negative instances (ham). Crucial for spam detection to minimize false positives.\")\n",
        "print(\"- Recall (Sensitivity): Ability of the model to find all positive instances (spam). Important to catch as many spam messages as possible.\")\n",
        "print(\"- F1-score: Harmonic mean of precision and recall, providing a balanced measure.\")\n",
        "print(\"- Interpretability: How easy it is to understand why the model made a certain prediction. Naive Bayes is generally more interpretable than Logistic Regression.\")\n",
        "print(\"- Training time and complexity.\")\n",
        "\n",
        "# Analyze the results\n",
        "if accuracy_score(y_test, y_pred_nb_gs) > accuracy_score(y_test, y_pred_lr_gs):\n",
        "    print(\"\\nBased on test set accuracy, Naive Bayes performs slightly better.\")\n",
        "    preferred_model = \"Multinomial Naive Bayes\"\n",
        "elif accuracy_score(y_test, y_pred_nb_gs) < accuracy_score(y_test, y_pred_lr_gs):\n",
        "    print(\"\\nBased on test set accuracy, Logistic Regression performs slightly better.\")\n",
        "    preferred_model = \"Logistic Regression\"\n",
        "else:\n",
        "    print(\"\\nBoth models have similar test set accuracy.\")\n",
        "    # Further analyze precision, recall, and F1-score, especially for the 'spam' class (label 1)\n",
        "    nb_report = classification_report(y_test, y_pred_nb_gs, output_dict=True)\n",
        "    lr_report = classification_report(y_test, y_pred_lr_gs, output_dict=True)\n",
        "\n",
        "    if nb_report['1']['f1-score'] > lr_report['1']['f1-score']:\n",
        "         print(\"Considering the F1-score for the 'spam' class, Naive Bayes is slightly better.\")\n",
        "         preferred_model = \"Multinomial Naive Bayes\"\n",
        "    elif nb_report['1']['f1-score'] < lr_report['1']['f1-score']:\n",
        "         print(\"Considering the F1-score for the 'spam' class, Logistic Regression is slightly better.\")\n",
        "         preferred_model = \"Logistic Regression\"\n",
        "    else:\n",
        "         print(\"Both models perform very similarly across multiple metrics.\")\n",
        "         preferred_model = \"Either model, consider interpretability or training speed.\"\n",
        "\n",
        "print(f\"\\nRecommendation: The {preferred_model} model is generally preferred for this task.\")\n",
        "\n",
        "if preferred_model == \"Multinomial Naive Bayes\":\n",
        "    print(\"\\nReasoning for choosing Naive Bayes:\")\n",
        "    print(\"- Often works well for text classification tasks, especially with discrete features like word counts.\")\n",
        "    print(\"- Computationally efficient and scales well with the number of features.\")\n",
        "    print(\"- Less prone to overfitting compared to Logistic Regression, especially with limited data.\")\n",
        "    print(\"- More interpretable, the feature importance reflects how likely words are to appear in spam vs. ham.\")\n",
        "elif preferred_model == \"Logistic Regression\":\n",
        "     print(\"\\nReasoning for choosing Logistic Regression:\")\n",
        "     print(\"- A strong linear model that can capture relationships between features and the target variable.\")\n",
        "     print(\"- Can sometimes capture more complex patterns than Naive Bayes.\")\n",
        "     print(\"- The regularization parameter (C) helps prevent overfitting.\")\n",
        "     print(\"- Coefficients can provide some insight into feature importance.\")\n",
        "else:\n",
        "     print(\"\\nReasoning for choosing either model:\")\n",
        "     print(\"- Both models achieved comparable performance.\")\n",
        "     print(\"- Consider factors beyond metrics, such as the need for interpretability (favor Naive Bayes) or potential for future feature engineering (Logistic Regression can handle numerical and categorical features easily).\")\n",
        "\n",
        "\n",
        "print(\"\\nFinal Check on Test Set Performance:\")\n",
        "print(\"Multinomial Naive Bayes:\")\n",
        "print(classification_report(y_test, y_pred_nb_gs))\n",
        "print(\"Logistic Regression:\")\n",
        "print(classification_report(y_test, y_pred_lr_gs))"
      ]
    },
    {
      "cell_type": "markdown",
      "metadata": {},
      "source": [
        "##  Recommendations.\n",
        "- 1.Implement the naive Bayes model in sms filtering system this will achieve >98% accuracy in spam detection.\n",
        "- 2.Create user feedback mechanism for misclassified sms.Continuously improve model with new data\n",
        "- 3.Set up performance monitoring dashboards.Track accuracy, false positive/negative rates, processing time"
      ]
    },
    {
      "cell_type": "markdown",
      "metadata": {},
      "source": [
        "# Conclusions.\n",
        "Using ML, we can automate spam detection to:\n",
        "- Protect users from threats\n",
        "- Improve SMS communication\n",
        "- Cut costs and boost efficiency for providers\n"
      ]
    }
  ],
  "metadata": {
    "accelerator": "GPU",
    "colab": {
      "gpuType": "T4",
      "provenance": []
    },
    "kernelspec": {
      "display_name": "base",
      "language": "python",
      "name": "python3"
    },
    "language_info": {
      "codemirror_mode": {
        "name": "ipython",
        "version": 3
      },
      "file_extension": ".py",
      "mimetype": "text/x-python",
      "name": "python",
      "nbconvert_exporter": "python",
      "pygments_lexer": "ipython3",
      "version": "3.11.7"
    }
  },
  "nbformat": 4,
  "nbformat_minor": 0
}
